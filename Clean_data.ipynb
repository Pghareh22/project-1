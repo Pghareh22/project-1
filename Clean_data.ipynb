{
 "cells": [
  {
   "cell_type": "code",
   "execution_count": 1,
   "metadata": {},
   "outputs": [],
   "source": [
    "#Import Dependencies\n",
    "import pandas as pd\n",
    "import numpy as np\n",
    "import matplotlib.pyplot as plt\n",
    "import datetime\n",
    "from scipy.stats import linregress\n"
   ]
  },
  {
   "cell_type": "code",
   "execution_count": 2,
   "metadata": {},
   "outputs": [],
   "source": [
    "#Read the cvs file\n",
    "\n",
    "Traffic_pd=pd.read_csv(\"Traffic_Violations.csv\")"
   ]
  },
  {
   "cell_type": "code",
   "execution_count": 3,
   "metadata": {},
   "outputs": [
    {
     "data": {
      "text/html": [
       "<div>\n",
       "<style scoped>\n",
       "    .dataframe tbody tr th:only-of-type {\n",
       "        vertical-align: middle;\n",
       "    }\n",
       "\n",
       "    .dataframe tbody tr th {\n",
       "        vertical-align: top;\n",
       "    }\n",
       "\n",
       "    .dataframe thead th {\n",
       "        text-align: right;\n",
       "    }\n",
       "</style>\n",
       "<table border=\"1\" class=\"dataframe\">\n",
       "  <thead>\n",
       "    <tr style=\"text-align: right;\">\n",
       "      <th></th>\n",
       "      <th>Date Of Stop</th>\n",
       "      <th>Time Of Stop</th>\n",
       "      <th>Agency</th>\n",
       "      <th>SubAgency</th>\n",
       "      <th>Description</th>\n",
       "      <th>Location</th>\n",
       "      <th>Latitude</th>\n",
       "      <th>Longitude</th>\n",
       "      <th>Accident</th>\n",
       "      <th>Belts</th>\n",
       "      <th>...</th>\n",
       "      <th>Charge</th>\n",
       "      <th>Article</th>\n",
       "      <th>Contributed To Accident</th>\n",
       "      <th>Race</th>\n",
       "      <th>Gender</th>\n",
       "      <th>Driver City</th>\n",
       "      <th>Driver State</th>\n",
       "      <th>DL State</th>\n",
       "      <th>Arrest Type</th>\n",
       "      <th>Geolocation</th>\n",
       "    </tr>\n",
       "  </thead>\n",
       "  <tbody>\n",
       "    <tr>\n",
       "      <th>0</th>\n",
       "      <td>09/24/2013</td>\n",
       "      <td>17:11:00</td>\n",
       "      <td>MCP</td>\n",
       "      <td>3rd district, Silver Spring</td>\n",
       "      <td>DRIVING VEHICLE ON HIGHWAY WITH SUSPENDED REGI...</td>\n",
       "      <td>8804 FLOWER AVE</td>\n",
       "      <td>NaN</td>\n",
       "      <td>NaN</td>\n",
       "      <td>No</td>\n",
       "      <td>No</td>\n",
       "      <td>...</td>\n",
       "      <td>13-401(h)</td>\n",
       "      <td>Transportation Article</td>\n",
       "      <td>No</td>\n",
       "      <td>BLACK</td>\n",
       "      <td>M</td>\n",
       "      <td>TAKOMA PARK</td>\n",
       "      <td>MD</td>\n",
       "      <td>MD</td>\n",
       "      <td>A - Marked Patrol</td>\n",
       "      <td>NaN</td>\n",
       "    </tr>\n",
       "    <tr>\n",
       "      <th>1</th>\n",
       "      <td>08/29/2017</td>\n",
       "      <td>10:19:00</td>\n",
       "      <td>MCP</td>\n",
       "      <td>2nd district, Bethesda</td>\n",
       "      <td>DRIVER FAILURE TO OBEY PROPERLY PLACED TRAFFIC...</td>\n",
       "      <td>WISCONSIN AVE@ ELM ST</td>\n",
       "      <td>38.981725</td>\n",
       "      <td>-77.092757</td>\n",
       "      <td>No</td>\n",
       "      <td>No</td>\n",
       "      <td>...</td>\n",
       "      <td>21-201(a1)</td>\n",
       "      <td>Transportation Article</td>\n",
       "      <td>No</td>\n",
       "      <td>WHITE</td>\n",
       "      <td>F</td>\n",
       "      <td>FAIRFAX STATION</td>\n",
       "      <td>VA</td>\n",
       "      <td>VA</td>\n",
       "      <td>A - Marked Patrol</td>\n",
       "      <td>(38.981725, -77.0927566666667)</td>\n",
       "    </tr>\n",
       "    <tr>\n",
       "      <th>2</th>\n",
       "      <td>12/01/2014</td>\n",
       "      <td>12:52:00</td>\n",
       "      <td>MCP</td>\n",
       "      <td>6th district, Gaithersburg / Montgomery Village</td>\n",
       "      <td>FAILURE STOP AND YIELD AT THRU HWY</td>\n",
       "      <td>CHRISTOPHER AVE/MONTGOMERY VILLAGE AVE</td>\n",
       "      <td>39.162888</td>\n",
       "      <td>-77.229088</td>\n",
       "      <td>No</td>\n",
       "      <td>No</td>\n",
       "      <td>...</td>\n",
       "      <td>21-403(b)</td>\n",
       "      <td>Transportation Article</td>\n",
       "      <td>No</td>\n",
       "      <td>BLACK</td>\n",
       "      <td>F</td>\n",
       "      <td>UPPER MARLBORO</td>\n",
       "      <td>MD</td>\n",
       "      <td>MD</td>\n",
       "      <td>A - Marked Patrol</td>\n",
       "      <td>(39.1628883333333, -77.2290883333333)</td>\n",
       "    </tr>\n",
       "    <tr>\n",
       "      <th>3</th>\n",
       "      <td>08/29/2017</td>\n",
       "      <td>09:22:00</td>\n",
       "      <td>MCP</td>\n",
       "      <td>3rd district, Silver Spring</td>\n",
       "      <td>FAILURE YIELD RIGHT OF WAY ON U TURN</td>\n",
       "      <td>CHERRY HILL RD./CALVERTON BLVD.</td>\n",
       "      <td>39.056975</td>\n",
       "      <td>-76.954633</td>\n",
       "      <td>No</td>\n",
       "      <td>No</td>\n",
       "      <td>...</td>\n",
       "      <td>21-402(b)</td>\n",
       "      <td>Transportation Article</td>\n",
       "      <td>No</td>\n",
       "      <td>BLACK</td>\n",
       "      <td>M</td>\n",
       "      <td>FORT WASHINGTON</td>\n",
       "      <td>MD</td>\n",
       "      <td>MD</td>\n",
       "      <td>A - Marked Patrol</td>\n",
       "      <td>(39.056975, -76.9546333333333)</td>\n",
       "    </tr>\n",
       "    <tr>\n",
       "      <th>4</th>\n",
       "      <td>08/28/2017</td>\n",
       "      <td>23:41:00</td>\n",
       "      <td>MCP</td>\n",
       "      <td>6th district, Gaithersburg / Montgomery Village</td>\n",
       "      <td>FAILURE OF DR. TO MAKE LANE CHANGE TO AVAIL. L...</td>\n",
       "      <td>355 @ SOUTH WESTLAND DRIVE</td>\n",
       "      <td>NaN</td>\n",
       "      <td>NaN</td>\n",
       "      <td>No</td>\n",
       "      <td>No</td>\n",
       "      <td>...</td>\n",
       "      <td>21-405(e1)</td>\n",
       "      <td>Transportation Article</td>\n",
       "      <td>No</td>\n",
       "      <td>WHITE</td>\n",
       "      <td>M</td>\n",
       "      <td>GAITHERSBURG</td>\n",
       "      <td>MD</td>\n",
       "      <td>MD</td>\n",
       "      <td>A - Marked Patrol</td>\n",
       "      <td>NaN</td>\n",
       "    </tr>\n",
       "  </tbody>\n",
       "</table>\n",
       "<p>5 rows × 35 columns</p>\n",
       "</div>"
      ],
      "text/plain": [
       "  Date Of Stop Time Of Stop Agency  \\\n",
       "0   09/24/2013     17:11:00    MCP   \n",
       "1   08/29/2017     10:19:00    MCP   \n",
       "2   12/01/2014     12:52:00    MCP   \n",
       "3   08/29/2017     09:22:00    MCP   \n",
       "4   08/28/2017     23:41:00    MCP   \n",
       "\n",
       "                                         SubAgency  \\\n",
       "0                      3rd district, Silver Spring   \n",
       "1                           2nd district, Bethesda   \n",
       "2  6th district, Gaithersburg / Montgomery Village   \n",
       "3                      3rd district, Silver Spring   \n",
       "4  6th district, Gaithersburg / Montgomery Village   \n",
       "\n",
       "                                         Description  \\\n",
       "0  DRIVING VEHICLE ON HIGHWAY WITH SUSPENDED REGI...   \n",
       "1  DRIVER FAILURE TO OBEY PROPERLY PLACED TRAFFIC...   \n",
       "2                 FAILURE STOP AND YIELD AT THRU HWY   \n",
       "3               FAILURE YIELD RIGHT OF WAY ON U TURN   \n",
       "4  FAILURE OF DR. TO MAKE LANE CHANGE TO AVAIL. L...   \n",
       "\n",
       "                                 Location   Latitude  Longitude Accident  \\\n",
       "0                         8804 FLOWER AVE        NaN        NaN       No   \n",
       "1                   WISCONSIN AVE@ ELM ST  38.981725 -77.092757       No   \n",
       "2  CHRISTOPHER AVE/MONTGOMERY VILLAGE AVE  39.162888 -77.229088       No   \n",
       "3         CHERRY HILL RD./CALVERTON BLVD.  39.056975 -76.954633       No   \n",
       "4              355 @ SOUTH WESTLAND DRIVE        NaN        NaN       No   \n",
       "\n",
       "  Belts                  ...                        Charge  \\\n",
       "0    No                  ...                     13-401(h)   \n",
       "1    No                  ...                    21-201(a1)   \n",
       "2    No                  ...                     21-403(b)   \n",
       "3    No                  ...                     21-402(b)   \n",
       "4    No                  ...                    21-405(e1)   \n",
       "\n",
       "                  Article Contributed To Accident   Race Gender  \\\n",
       "0  Transportation Article                      No  BLACK      M   \n",
       "1  Transportation Article                      No  WHITE      F   \n",
       "2  Transportation Article                      No  BLACK      F   \n",
       "3  Transportation Article                      No  BLACK      M   \n",
       "4  Transportation Article                      No  WHITE      M   \n",
       "\n",
       "       Driver City Driver State DL State        Arrest Type  \\\n",
       "0      TAKOMA PARK           MD       MD  A - Marked Patrol   \n",
       "1  FAIRFAX STATION           VA       VA  A - Marked Patrol   \n",
       "2   UPPER MARLBORO           MD       MD  A - Marked Patrol   \n",
       "3  FORT WASHINGTON           MD       MD  A - Marked Patrol   \n",
       "4     GAITHERSBURG           MD       MD  A - Marked Patrol   \n",
       "\n",
       "                             Geolocation  \n",
       "0                                    NaN  \n",
       "1         (38.981725, -77.0927566666667)  \n",
       "2  (39.1628883333333, -77.2290883333333)  \n",
       "3         (39.056975, -76.9546333333333)  \n",
       "4                                    NaN  \n",
       "\n",
       "[5 rows x 35 columns]"
      ]
     },
     "execution_count": 3,
     "metadata": {},
     "output_type": "execute_result"
    }
   ],
   "source": [
    "#Display The Dataframe\n",
    "Traffic_pd.head()"
   ]
  },
  {
   "cell_type": "code",
   "execution_count": 4,
   "metadata": {},
   "outputs": [
    {
     "data": {
      "text/plain": [
       "Index(['Date Of Stop', 'Time Of Stop', 'Agency', 'SubAgency', 'Description',\n",
       "       'Location', 'Latitude', 'Longitude', 'Accident', 'Belts',\n",
       "       'Personal Injury', 'Property Damage', 'Fatal', 'Commercial License',\n",
       "       'HAZMAT', 'Commercial Vehicle', 'Alcohol', 'Work Zone', 'State',\n",
       "       'VehicleType', 'Year', 'Make', 'Model', 'Color', 'Violation Type',\n",
       "       'Charge', 'Article', 'Contributed To Accident', 'Race', 'Gender',\n",
       "       'Driver City', 'Driver State', 'DL State', 'Arrest Type',\n",
       "       'Geolocation'],\n",
       "      dtype='object')"
      ]
     },
     "execution_count": 4,
     "metadata": {},
     "output_type": "execute_result"
    }
   ],
   "source": [
    "Traffic_pd.columns"
   ]
  },
  {
   "cell_type": "code",
   "execution_count": 5,
   "metadata": {},
   "outputs": [
    {
     "data": {
      "text/plain": [
       "Index(['Date Of Stop', 'Time Of Stop', 'Agency', 'SubAgency', 'Description',\n",
       "       'Location', 'Latitude', 'Longitude', 'Accident', 'Belts',\n",
       "       'Personal Injury', 'Property Damage', 'Fatal', 'Commercial License',\n",
       "       'HAZMAT', 'Commercial Vehicle', 'Alcohol', 'Work Zone', 'State',\n",
       "       'VehicleType', 'Year Make', 'Make', 'Model', 'Color', 'Violation Type',\n",
       "       'Charge', 'Article', 'Contributed To Accident', 'Race', 'Gender',\n",
       "       'Driver City', 'Driver State', 'DL State', 'Arrest Type',\n",
       "       'Geolocation'],\n",
       "      dtype='object')"
      ]
     },
     "execution_count": 5,
     "metadata": {},
     "output_type": "execute_result"
    }
   ],
   "source": [
    "#renaming the column name to year make\n",
    "Traffic_pd=Traffic_pd.rename(columns={'Year':'Year Make'})\n",
    "Traffic_pd.columns"
   ]
  },
  {
   "cell_type": "code",
   "execution_count": 94,
   "metadata": {},
   "outputs": [],
   "source": [
    "#getting Year and month  using datetype\n",
    "\n",
    "\n",
    "Traffic_pd['Date Of Stop'] = pd.to_datetime(Traffic_pd['Date Of Stop'])\n",
    "#Traffic_pd['Date Of Stop'].dt.year\n",
    "Traffic_pd['Year'] = Traffic_pd['Date Of Stop'].dt.year\n",
    "Traffic_pd['Month'] =Traffic_pd['Date Of Stop'].dt.month"
   ]
  },
  {
   "cell_type": "code",
   "execution_count": 6,
   "metadata": {},
   "outputs": [
    {
     "data": {
      "text/plain": [
       "(1371840, 35)"
      ]
     },
     "execution_count": 6,
     "metadata": {},
     "output_type": "execute_result"
    }
   ],
   "source": [
    "Traffic_pd.shape\n"
   ]
  },
  {
   "cell_type": "code",
   "execution_count": 7,
   "metadata": {},
   "outputs": [],
   "source": [
    "#dropping the columns\n",
    "main_traffic_data=Traffic_pd.drop(columns={'Agency', 'SubAgency','Personal Injury', 'Property Damage','Work Zone','Article', 'Accident'})"
   ]
  },
  {
   "cell_type": "code",
   "execution_count": 8,
   "metadata": {},
   "outputs": [],
   "source": [
    "#dropping columns to get the dataframe\n",
    "main_traffic_data.columns\n",
    "final_data=main_traffic_data.drop(columns={'Location', 'Latitude','Longitude','Commercial License','Commercial Vehicle','Driver State','Arrest Type'})"
   ]
  },
  {
   "cell_type": "code",
   "execution_count": 9,
   "metadata": {},
   "outputs": [
    {
     "data": {
      "text/plain": [
       "(1371840, 21)"
      ]
     },
     "execution_count": 9,
     "metadata": {},
     "output_type": "execute_result"
    }
   ],
   "source": [
    "final_data.shape\n"
   ]
  },
  {
   "cell_type": "code",
   "execution_count": 10,
   "metadata": {},
   "outputs": [
    {
     "data": {
      "text/plain": [
       "Date Of Stop               1254906\n",
       "Time Of Stop               1254906\n",
       "Description                1254906\n",
       "Belts                      1254906\n",
       "Fatal                      1254906\n",
       "HAZMAT                     1254906\n",
       "Alcohol                    1254906\n",
       "State                      1254906\n",
       "VehicleType                1254906\n",
       "Year Make                  1254906\n",
       "Make                       1254906\n",
       "Model                      1254906\n",
       "Color                      1254906\n",
       "Violation Type             1254906\n",
       "Charge                     1254906\n",
       "Contributed To Accident    1254906\n",
       "Race                       1254906\n",
       "Gender                     1254906\n",
       "Driver City                1254906\n",
       "DL State                   1254906\n",
       "Geolocation                1254906\n",
       "dtype: int64"
      ]
     },
     "execution_count": 10,
     "metadata": {},
     "output_type": "execute_result"
    }
   ],
   "source": [
    "#droping the missing or NaN rows from dataframe\n",
    "final_data.dropna(how='any',inplace=True)\n",
    "final_data.count()"
   ]
  },
  {
   "cell_type": "code",
   "execution_count": 11,
   "metadata": {},
   "outputs": [],
   "source": [
    "#using the search word in \"Description as SPEED we put all the other Charges under the same description with 201-801 \n",
    "#repeating the same for remaining Description \"\n",
    "final_data.loc[final_data['Description'].str.contains('SPEED', case=False),'Description']='SPEEDING' \n",
    "final_data.loc[final_data['Description'].str.contains('SPEED', case=False),'Charge']='201-801'\n",
    "final_data.loc[final_data['Description'].str.contains('TRAFFIC CONTROL DEVICE', case=False),'Description']='TRAFFIC CONTROLDEVICE' \n",
    "final_data.loc[final_data['Description'].str.contains('TRAFFIC CONTROL DEVICE', case=False),'Charge']='21-201' \n"
   ]
  },
  {
   "cell_type": "code",
   "execution_count": 12,
   "metadata": {},
   "outputs": [],
   "source": [
    "final_data.loc[final_data['Description'].str.contains('REGISTRATION CARD|DISPLAY REG. CARD',case=False),'Description']='FAILURE TODISPLAY REGISTRATION CARD'\n",
    "final_data.loc[final_data['Description'].str.contains('REGISTRATION CARD|DISPLAY REG. CARD',case=False),'Charge']='13-409'"
   ]
  },
  {
   "cell_type": "code",
   "execution_count": 13,
   "metadata": {},
   "outputs": [],
   "source": [
    "final_data.loc[final_data['Description'].str.contains('SUSPENDED REGISTRATION|UNREGISTERED MOTOR|UNPAID REGISTRATION|CANCELLED REGISTRATION|REVOKED REGISTRATION|UNREG. VEH| PROPER VEHICLE I.D', case=False),'Description']='SUSPENDED REGISTRATION' \n",
    "final_data.loc[final_data['Description'].str.contains('SUSPENDED REGISTRATION|UNREGISTERED MOTOR|UNPAID REGISTRATION|CANCELLED REGISTRATION|REVOKED REGISTRATION|UNREG. VEH| PROPER VEHICLE I.D', case=False),'Charge']='13-401' "
   ]
  },
  {
   "cell_type": "code",
   "execution_count": 14,
   "metadata": {},
   "outputs": [],
   "source": [
    "final_data.loc[final_data['Description'].str.contains('STOP AT STOP|YIELD SIGN', case=False),'Description']='STOP AT STOP' \n",
    "final_data.loc[final_data['Description'].str.contains('STOP AT STOP|YIELD SIGN', case=False),'Charge']='21-707'"
   ]
  },
  {
   "cell_type": "code",
   "execution_count": 15,
   "metadata": {},
   "outputs": [],
   "source": [
    "\n",
    "final_data.loc[final_data['Description'].str.contains('DISPLAY LICENSE|HAVE LIC.|FALSE AND FICTITIOUS NAME|SIGN SIGNATURE|LICENSE',case=False),'Description']='SUSPENDED LICENSE'\n",
    "final_data.loc[final_data['Description'].str.contains('DISPLAY LICENSE|HAVE LIC.|FALSE AND FICTITIOUS NAME|SIGN SIGNATURE|LICENSE',case=False),'Charge']='16-112'"
   ]
  },
  {
   "cell_type": "code",
   "execution_count": 16,
   "metadata": {},
   "outputs": [],
   "source": [
    "final_data.loc[final_data['Description'].str.contains('ELECTRONIC|TEXT|TELEPHONE|ATEXT|WIRELESS COMMUNICATION|WRITING|SENDING|MSG.|PHONE|EAR'),'Description']=\"ELECTRONIC DEVICE DISTRACTION\"\n",
    "final_data.loc[final_data['Description'].str.contains('ELECTRONIC|TEXT|TELEPHONE|ATEXT|WIRELESS COMMUNICATION|WRITING|SENDING|MSG.|PHONE|EAR'),'Charge']=\"21-1124\""
   ]
  },
  {
   "cell_type": "code",
   "execution_count": 17,
   "metadata": {},
   "outputs": [],
   "source": [
    "final_data.loc[final_data['Description'].str.contains('REGISTRATION PLATE|VALIDATION TABS|PLATE|TAGS|REG. PLATE'),\"Description\"]=\"DISPLAY REGISTRATION PLATE\"\n",
    "final_data.loc[final_data['Description'].str.contains('REGISTRATION PLATE|VALIDATION TABS|PLATE|TAGS|REG. PLATE'),\"Charge\"]=\"13-411\""
   ]
  },
  {
   "cell_type": "code",
   "execution_count": 18,
   "metadata": {},
   "outputs": [],
   "source": [
    "final_data.loc[final_data['Description'].astype(str).str.contains('STOP LIGHTS',case=False),\"Description\"]=\"NOSTOP LIGHTS\"\n",
    "final_data.loc[final_data['Description'].astype(str).str.contains('STOP LIGHTS',case=False),\"Charge\"]=\"64\""
   ]
  },
  {
   "cell_type": "code",
   "execution_count": 19,
   "metadata": {},
   "outputs": [],
   "source": [
    "final_data.loc[final_data['Description'].astype(str).str.contains('seat|seatbelt|belt',case=False),\"Description\"]=\"NO SEAT BELT/CHILD SAFTEY\"\n",
    "final_data.loc[final_data['Description'].astype(str).str.contains('seat|seatbelt|belt',case=False),\"Charge\"]=\"22-412\""
   ]
  },
  {
   "cell_type": "code",
   "execution_count": 20,
   "metadata": {},
   "outputs": [],
   "source": [
    "\n",
    "final_data.loc[final_data['Description'].astype(str).str.contains('TRAFFIC LANE|CENTER LANE|TURN LANE|CHANGING LANES|UNSAFE LANE|DESIGNATED LANE',case=False),\"Description\"]=\"IMPROPER LANECHANGE\"\n",
    "final_data.loc[final_data['Description'].astype(str).str.contains('IMPROPER LANECHANGE',case=False),\"Charge\"] = \"21-309.\""
   ]
  },
  {
   "cell_type": "code",
   "execution_count": 21,
   "metadata": {},
   "outputs": [],
   "source": [
    "final_data.loc[final_data['Description'].astype(str).str.contains('LIGHTED LAMPS|LIGHTED HEAD|LIGHTED',case=False),\"Description\"]=\"WITHOUTLIGHTED HEADLAMPS\"\n",
    "final_data.loc[final_data['Description'].astype(str).str.contains('LIGHTED LAMPS|LIGHTED HEAD|LIGHTED',case=False),\"Charge\"]=\"22-201\""
   ]
  },
  {
   "cell_type": "code",
   "execution_count": 22,
   "metadata": {},
   "outputs": [],
   "source": [
    "final_data.loc[final_data['Description'].astype(str).str.contains('AGGRESSIVE DRIVING|NEGLIGENT DRIVING|RECKLESS DRIVING',case=False),\"Description\"]=\"NEGLIGENT DRIVING\"\n",
    "final_data.loc[final_data['Description'].astype(str).str.contains('AGGRESSIVE DRIVING|NEGLIGENT DRIVING|RECKLESS DRIVING',case=False),\"Charge\"]=\"22-901\""
   ]
  },
  {
   "cell_type": "code",
   "execution_count": 23,
   "metadata": {},
   "outputs": [],
   "source": [
    "#since the OR srting is large assinging the Charge with The Description name \"STOPAT REDSIGNAL\" under 21-202 repeated same below\n",
    "final_data.loc[final_data['Description'].astype(str).str.contains('RED SIGNAL|RED TRAFFIC SIGNAL|MAKE REQUIRED STOP|RIGHT-OF-WAY|PAVEMENT MARK|STOP AT SIGN|RED ARROW SIGNAL'),\"Description\"]=\"STOPAT REDSIGNAL\"\n",
    "final_data.loc[final_data['Description'].astype(str).str.contains('STOPAT REDSIGNAL'),\"Charge\"]=\"21-202\""
   ]
  },
  {
   "cell_type": "code",
   "execution_count": 24,
   "metadata": {},
   "outputs": [],
   "source": [
    "final_data.loc[final_data['Description'].astype(str).str.contains('INFLUENCE OF ALCOHOL|ALCOHOL|INFLUENCE OF ALCOHOL|CONTROLLED DANGEROUS SUBSTANCE|IMPAIRED BY DRUGS'),\"Description\"]=\"INFLUENCE OF ALCOHOL\"\n",
    "final_data.loc[final_data['Description'].astype(str).str.contains('INFLUENCE OF ALCOHOL'),\"Charge\"]=\"21-902\""
   ]
  },
  {
   "cell_type": "code",
   "execution_count": 25,
   "metadata": {},
   "outputs": [],
   "source": [
    "final_data.loc[final_data['Description'].astype(str).str.contains('WINDOW TINTING|SAFETY GLASS'),\"Description\"]=\"UNAUTHORIZED WINDOW TINTING\"\n",
    "final_data.loc[final_data['Description'].astype(str).str.contains('UNAUTHORIZED WINDOW TINTING'),\"Charge\"]=\"22-406\""
   ]
  },
  {
   "cell_type": "code",
   "execution_count": 26,
   "metadata": {},
   "outputs": [],
   "source": [
    "final_data.loc[final_data['Description'].astype(str).str.contains('HEADLIGHTS|HEADLIGHT AIM',case=False),\"Description\"]=\"HEADLIGHTS\"\n",
    "final_data.loc[final_data['Description'].astype(str).str.contains('HEADLIGHTS'),\"Charge\"]=\"55\""
   ]
  },
  {
   "cell_type": "code",
   "execution_count": 27,
   "metadata": {},
   "outputs": [],
   "source": [
    "\n",
    "final_data.loc[final_data['Description'].astype(str).str.contains('REQUIRED MINIMUM EQUIPMENT',case=False),\"Description\"]=\"HWY. W/O REQUIRED MINIMUM EQUIPMENT\"\n",
    "final_data.loc[final_data['Description'].astype(str).str.contains('HWY. W/O REQUIRED MINIMUM EQUIPMENT'),\"Charge\"]=\"23-104\"\n"
   ]
  },
  {
   "cell_type": "code",
   "execution_count": 28,
   "metadata": {},
   "outputs": [],
   "source": [
    "#Dropping the Charges and hence the rows with value_counts of Charge is less than 7500 that leaves us with 21 Charges to work\n",
    "#Did it in end to encoperate maximum counts and prevent data loss\n",
    "s=final_data.Charge.value_counts().gt(7500)\n",
    "new_data=final_data.loc[final_data.Charge.isin(s[s].index)]"
   ]
  },
  {
   "cell_type": "code",
   "execution_count": 29,
   "metadata": {
    "scrolled": true
   },
   "outputs": [],
   "source": [
    "#new_data[new_data['Charge'].astype(str).str.contains('69')].Description.value_counts()\n"
   ]
  },
  {
   "cell_type": "code",
   "execution_count": 30,
   "metadata": {},
   "outputs": [
    {
     "name": "stderr",
     "output_type": "stream",
     "text": [
      "C:\\Users\\pghar\\Anaconda3\\envs\\PythonData\\lib\\site-packages\\pandas\\core\\indexing.py:543: SettingWithCopyWarning: \n",
      "A value is trying to be set on a copy of a slice from a DataFrame.\n",
      "Try using .loc[row_indexer,col_indexer] = value instead\n",
      "\n",
      "See the caveats in the documentation: http://pandas.pydata.org/pandas-docs/stable/indexing.html#indexing-view-versus-copy\n",
      "  self.obj[item] = s\n"
     ]
    }
   ],
   "source": [
    "#with the reduced dataframe the data is cleaned in the same manner\n",
    "new_data.loc[new_data['Description'].astype(str).str.contains('LANE NOT IMMED.|EMERG. VEH|MOVE OVER|FAILURE OF DR. '),\"Description\"]=\"FAILURE TO ADJ EMERGENCY VEH\"\n",
    "new_data.loc[new_data['Description'].astype(str).str.contains('FAILURE TO ADJ EMERGENCY VEH'),\"Charge\"]=\"21-405\""
   ]
  },
  {
   "cell_type": "code",
   "execution_count": 31,
   "metadata": {},
   "outputs": [
    {
     "name": "stderr",
     "output_type": "stream",
     "text": [
      "C:\\Users\\pghar\\Anaconda3\\envs\\PythonData\\lib\\site-packages\\pandas\\core\\indexing.py:543: SettingWithCopyWarning: \n",
      "A value is trying to be set on a copy of a slice from a DataFrame.\n",
      "Try using .loc[row_indexer,col_indexer] = value instead\n",
      "\n",
      "See the caveats in the documentation: http://pandas.pydata.org/pandas-docs/stable/indexing.html#indexing-view-versus-copy\n",
      "  self.obj[item] = s\n"
     ]
    }
   ],
   "source": [
    "new_data.loc[new_data['Description'].astype(str).str.contains('RIGHT HALF OF ROADWAY|RIGHT OF CENTER'),\"Description\"]=\"FAILURE TO DRIVE RIGHT\"\n",
    "new_data.loc[new_data['Description'].astype(str).str.contains('FAILURE TO DRIVE RIGHT'),\"Charge\"]=\"21-301\""
   ]
  },
  {
   "cell_type": "code",
   "execution_count": 32,
   "metadata": {},
   "outputs": [
    {
     "name": "stderr",
     "output_type": "stream",
     "text": [
      "C:\\Users\\pghar\\Anaconda3\\envs\\PythonData\\lib\\site-packages\\pandas\\core\\indexing.py:543: SettingWithCopyWarning: \n",
      "A value is trying to be set on a copy of a slice from a DataFrame.\n",
      "Try using .loc[row_indexer,col_indexer] = value instead\n",
      "\n",
      "See the caveats in the documentation: http://pandas.pydata.org/pandas-docs/stable/indexing.html#indexing-view-versus-copy\n",
      "  self.obj[item] = s\n"
     ]
    }
   ],
   "source": [
    "new_data.loc[new_data['Description'].astype(str).str.contains(' WHILE LIC.|WHILE SUSP. UNDER|SUSP|16-303 H|21-901|26-204|FAILURE TO STOP',case=False),\"Description\"]=\"DRIVING WITH SUSP.LICEN\"\n",
    "new_data.loc[new_data['Description'].astype(str).str.contains('DRIVING WITH SUSP.LICEN'),\"Charge\"]=\"16-303\""
   ]
  },
  {
   "cell_type": "code",
   "execution_count": 33,
   "metadata": {},
   "outputs": [
    {
     "name": "stderr",
     "output_type": "stream",
     "text": [
      "C:\\Users\\pghar\\Anaconda3\\envs\\PythonData\\lib\\site-packages\\pandas\\core\\indexing.py:543: SettingWithCopyWarning: \n",
      "A value is trying to be set on a copy of a slice from a DataFrame.\n",
      "Try using .loc[row_indexer,col_indexer] = value instead\n",
      "\n",
      "See the caveats in the documentation: http://pandas.pydata.org/pandas-docs/stable/indexing.html#indexing-view-versus-copy\n",
      "  self.obj[item] = s\n"
     ]
    }
   ],
   "source": [
    "new_data.loc[new_data['Description'].astype(str).str.contains(' UNINSURED VEHICLE|UNINSURED|INSURED|INSURANCE|KNOWINGLY DRIVING|TAG NOT|MARYLAND|UNISURED'),\"Description\"]=\"UNINSURED VEHICLE\"\n",
    "new_data.loc[new_data['Description'].astype(str).str.contains('UNINSURED VEHICLE'),\"Charge\"]=\"17-707\""
   ]
  },
  {
   "cell_type": "code",
   "execution_count": 34,
   "metadata": {},
   "outputs": [
    {
     "name": "stderr",
     "output_type": "stream",
     "text": [
      "C:\\Users\\pghar\\Anaconda3\\envs\\PythonData\\lib\\site-packages\\pandas\\core\\indexing.py:543: SettingWithCopyWarning: \n",
      "A value is trying to be set on a copy of a slice from a DataFrame.\n",
      "Try using .loc[row_indexer,col_indexer] = value instead\n",
      "\n",
      "See the caveats in the documentation: http://pandas.pydata.org/pandas-docs/stable/indexing.html#indexing-view-versus-copy\n",
      "  self.obj[item] = s\n"
     ]
    }
   ],
   "source": [
    "new_data.loc[new_data['Description'].astype(str).str.contains(' TURNING LEFT FAIL|LEFT TURN'),\"Description\"]=\"TURNING LEFT FAIL\"\n",
    "new_data.loc[new_data['Description'].astype(str).str.contains('TURNING LEFT FAIL'),\"Charge\"]=\"21-402\""
   ]
  },
  {
   "cell_type": "code",
   "execution_count": 35,
   "metadata": {},
   "outputs": [
    {
     "name": "stderr",
     "output_type": "stream",
     "text": [
      "C:\\Users\\pghar\\Anaconda3\\envs\\PythonData\\lib\\site-packages\\pandas\\core\\indexing.py:543: SettingWithCopyWarning: \n",
      "A value is trying to be set on a copy of a slice from a DataFrame.\n",
      "Try using .loc[row_indexer,col_indexer] = value instead\n",
      "\n",
      "See the caveats in the documentation: http://pandas.pydata.org/pandas-docs/stable/indexing.html#indexing-view-versus-copy\n",
      "  self.obj[item] = s\n"
     ]
    }
   ],
   "source": [
    "new_data.loc[new_data['Charge'].astype(str).str.contains('TURNING LEFT FAIL'),\"Charge\"]=\"21-402\""
   ]
  },
  {
   "cell_type": "code",
   "execution_count": 36,
   "metadata": {},
   "outputs": [
    {
     "data": {
      "text/plain": [
       "16-303        207480\n",
       "201-801       203409\n",
       "21-201(a1)    102115\n",
       "21-1124        99761\n",
       "13-411         77552\n",
       "13-409         62038\n",
       "21-202         56548\n",
       "21-707         42125\n",
       "21-902         38021\n",
       "22-412         31251\n",
       "22-201         31095\n",
       "64             24888\n",
       "21-309.        24849\n",
       "22-901         22630\n",
       "22-406         12132\n",
       "55             11162\n",
       "23-104         10230\n",
       "21-301          9589\n",
       "21-405          8997\n",
       "17-707          7656\n",
       "21-402          7521\n",
       "Name: Charge, dtype: int64"
      ]
     },
     "execution_count": 36,
     "metadata": {},
     "output_type": "execute_result"
    }
   ],
   "source": [
    "#checking the data \n",
    "new_data.Charge.value_counts()\n"
   ]
  },
  {
   "cell_type": "code",
   "execution_count": 37,
   "metadata": {},
   "outputs": [
    {
     "data": {
      "text/plain": [
       "Index(['Date Of Stop', 'Time Of Stop', 'Description', 'Belts', 'Fatal',\n",
       "       'HAZMAT', 'Alcohol', 'State', 'VehicleType', 'Year Make', 'Make',\n",
       "       'Model', 'Color', 'Violation Type', 'Charge', 'Contributed To Accident',\n",
       "       'Race', 'Gender', 'Driver City', 'DL State', 'Geolocation'],\n",
       "      dtype='object')"
      ]
     },
     "execution_count": 37,
     "metadata": {},
     "output_type": "execute_result"
    }
   ],
   "source": [
    "new_data.columns\n"
   ]
  },
  {
   "cell_type": "code",
   "execution_count": 38,
   "metadata": {},
   "outputs": [],
   "source": [
    "#lastly dropping all the other columns as discussed\n",
    "output_data_CSV=new_data.drop(columns={'Belts', 'Fatal','HAZMAT', 'Alcohol','VehicleType', 'Year Make', 'Make',\n",
    "       'Model', 'Color', 'Violation Type','Driver City', 'DL State'})"
   ]
  },
  {
   "cell_type": "code",
   "execution_count": 39,
   "metadata": {},
   "outputs": [
    {
     "data": {
      "text/plain": [
       "DRIVING WITH SUSP.LICEN                207480\n",
       "SPEEDING                               203409\n",
       "TRAFFIC CONTROLDEVICE                  102115\n",
       "ELECTRONIC DEVICE DISTRACTION           99761\n",
       "DISPLAY REGISTRATION PLATE              77552\n",
       "FAILURE TODISPLAY REGISTRATION CARD     62038\n",
       "STOPAT REDSIGNAL                        56548\n",
       "STOP AT STOP                            42125\n",
       "INFLUENCE OF ALCOHOL                    38021\n",
       "NO SEAT BELT/CHILD SAFTEY               31251\n",
       "WITHOUTLIGHTED HEADLAMPS                31095\n",
       "NOSTOP LIGHTS                           24888\n",
       "IMPROPER LANECHANGE                     24849\n",
       "NEGLIGENT DRIVING                       22630\n",
       "UNAUTHORIZED WINDOW TINTING             12132\n",
       "HEADLIGHTS                              11162\n",
       "HWY. W/O REQUIRED MINIMUM EQUIPMENT     10230\n",
       "FAILURE TO DRIVE RIGHT                   9589\n",
       "FAILURE TO ADJ EMERGENCY VEH             8997\n",
       "UNINSURED VEHICLE                        7656\n",
       "TURNING LEFT FAIL                        7521\n",
       "Name: Description, dtype: int64"
      ]
     },
     "execution_count": 39,
     "metadata": {},
     "output_type": "execute_result"
    }
   ],
   "source": [
    "#since the Description shows two missing counts Headlight AIM its dropped to have uniformity\n",
    "output_data_CSV.Description.value_counts()\n",
    "\n",
    "\n"
   ]
  },
  {
   "cell_type": "code",
   "execution_count": 40,
   "metadata": {},
   "outputs": [],
   "source": [
    "#dropping HEADLIGHT AIM\n",
    "Traffic_final_data=output_data_CSV[output_data_CSV.Description.str.contains(\"HEADLIGHT AIM|Headlight Aim\") == False]"
   ]
  },
  {
   "cell_type": "code",
   "execution_count": 41,
   "metadata": {},
   "outputs": [],
   "source": [
    "#saving to CSV file\n",
    "Traffic_final_data.to_csv(\"Traffic_violations_final.csv\", encoding=\"utf-8\", index=False)"
   ]
  },
  {
   "cell_type": "code",
   "execution_count": 42,
   "metadata": {},
   "outputs": [
    {
     "data": {
      "text/html": [
       "<div>\n",
       "<style scoped>\n",
       "    .dataframe tbody tr th:only-of-type {\n",
       "        vertical-align: middle;\n",
       "    }\n",
       "\n",
       "    .dataframe tbody tr th {\n",
       "        vertical-align: top;\n",
       "    }\n",
       "\n",
       "    .dataframe thead th {\n",
       "        text-align: right;\n",
       "    }\n",
       "</style>\n",
       "<table border=\"1\" class=\"dataframe\">\n",
       "  <thead>\n",
       "    <tr style=\"text-align: right;\">\n",
       "      <th></th>\n",
       "      <th>Description</th>\n",
       "      <th>number of charges</th>\n",
       "    </tr>\n",
       "  </thead>\n",
       "  <tbody>\n",
       "    <tr>\n",
       "      <th>0</th>\n",
       "      <td>DRIVING WITH SUSP.LICEN</td>\n",
       "      <td>207480</td>\n",
       "    </tr>\n",
       "    <tr>\n",
       "      <th>1</th>\n",
       "      <td>SPEEDING</td>\n",
       "      <td>203409</td>\n",
       "    </tr>\n",
       "    <tr>\n",
       "      <th>2</th>\n",
       "      <td>TRAFFIC CONTROLDEVICE</td>\n",
       "      <td>102115</td>\n",
       "    </tr>\n",
       "    <tr>\n",
       "      <th>3</th>\n",
       "      <td>ELECTRONIC DEVICE DISTRACTION</td>\n",
       "      <td>99761</td>\n",
       "    </tr>\n",
       "    <tr>\n",
       "      <th>4</th>\n",
       "      <td>DISPLAY REGISTRATION PLATE</td>\n",
       "      <td>77552</td>\n",
       "    </tr>\n",
       "    <tr>\n",
       "      <th>5</th>\n",
       "      <td>FAILURE TODISPLAY REGISTRATION CARD</td>\n",
       "      <td>62038</td>\n",
       "    </tr>\n",
       "    <tr>\n",
       "      <th>6</th>\n",
       "      <td>STOPAT REDSIGNAL</td>\n",
       "      <td>56548</td>\n",
       "    </tr>\n",
       "    <tr>\n",
       "      <th>7</th>\n",
       "      <td>STOP AT STOP</td>\n",
       "      <td>42125</td>\n",
       "    </tr>\n",
       "    <tr>\n",
       "      <th>8</th>\n",
       "      <td>INFLUENCE OF ALCOHOL</td>\n",
       "      <td>38021</td>\n",
       "    </tr>\n",
       "    <tr>\n",
       "      <th>9</th>\n",
       "      <td>NO SEAT BELT/CHILD SAFTEY</td>\n",
       "      <td>31251</td>\n",
       "    </tr>\n",
       "    <tr>\n",
       "      <th>10</th>\n",
       "      <td>WITHOUTLIGHTED HEADLAMPS</td>\n",
       "      <td>31095</td>\n",
       "    </tr>\n",
       "    <tr>\n",
       "      <th>11</th>\n",
       "      <td>NOSTOP LIGHTS</td>\n",
       "      <td>24888</td>\n",
       "    </tr>\n",
       "    <tr>\n",
       "      <th>12</th>\n",
       "      <td>IMPROPER LANECHANGE</td>\n",
       "      <td>24849</td>\n",
       "    </tr>\n",
       "    <tr>\n",
       "      <th>13</th>\n",
       "      <td>NEGLIGENT DRIVING</td>\n",
       "      <td>22630</td>\n",
       "    </tr>\n",
       "    <tr>\n",
       "      <th>14</th>\n",
       "      <td>UNAUTHORIZED WINDOW TINTING</td>\n",
       "      <td>12132</td>\n",
       "    </tr>\n",
       "    <tr>\n",
       "      <th>15</th>\n",
       "      <td>HEADLIGHTS</td>\n",
       "      <td>11162</td>\n",
       "    </tr>\n",
       "    <tr>\n",
       "      <th>16</th>\n",
       "      <td>HWY. W/O REQUIRED MINIMUM EQUIPMENT</td>\n",
       "      <td>10230</td>\n",
       "    </tr>\n",
       "    <tr>\n",
       "      <th>17</th>\n",
       "      <td>FAILURE TO DRIVE RIGHT</td>\n",
       "      <td>9589</td>\n",
       "    </tr>\n",
       "    <tr>\n",
       "      <th>18</th>\n",
       "      <td>FAILURE TO ADJ EMERGENCY VEH</td>\n",
       "      <td>8997</td>\n",
       "    </tr>\n",
       "    <tr>\n",
       "      <th>19</th>\n",
       "      <td>UNINSURED VEHICLE</td>\n",
       "      <td>7656</td>\n",
       "    </tr>\n",
       "    <tr>\n",
       "      <th>20</th>\n",
       "      <td>TURNING LEFT FAIL</td>\n",
       "      <td>7521</td>\n",
       "    </tr>\n",
       "  </tbody>\n",
       "</table>\n",
       "</div>"
      ],
      "text/plain": [
       "                            Description  number of charges\n",
       "0               DRIVING WITH SUSP.LICEN             207480\n",
       "1                              SPEEDING             203409\n",
       "2                 TRAFFIC CONTROLDEVICE             102115\n",
       "3         ELECTRONIC DEVICE DISTRACTION              99761\n",
       "4            DISPLAY REGISTRATION PLATE              77552\n",
       "5   FAILURE TODISPLAY REGISTRATION CARD              62038\n",
       "6                      STOPAT REDSIGNAL              56548\n",
       "7                          STOP AT STOP              42125\n",
       "8                  INFLUENCE OF ALCOHOL              38021\n",
       "9             NO SEAT BELT/CHILD SAFTEY              31251\n",
       "10             WITHOUTLIGHTED HEADLAMPS              31095\n",
       "11                        NOSTOP LIGHTS              24888\n",
       "12                  IMPROPER LANECHANGE              24849\n",
       "13                    NEGLIGENT DRIVING              22630\n",
       "14          UNAUTHORIZED WINDOW TINTING              12132\n",
       "15                           HEADLIGHTS              11162\n",
       "16  HWY. W/O REQUIRED MINIMUM EQUIPMENT              10230\n",
       "17               FAILURE TO DRIVE RIGHT               9589\n",
       "18         FAILURE TO ADJ EMERGENCY VEH               8997\n",
       "19                    UNINSURED VEHICLE               7656\n",
       "20                    TURNING LEFT FAIL               7521"
      ]
     },
     "execution_count": 42,
     "metadata": {},
     "output_type": "execute_result"
    }
   ],
   "source": [
    "#Checking the data to see the Description  and Charges match\n",
    "Traffic=Traffic_final_data.Description.value_counts().reset_index()\n",
    "Traffic= Traffic.rename(columns={'index': 'Description', 'Description': 'number of charges'})\n",
    "Traffic"
   ]
  },
  {
   "cell_type": "code",
   "execution_count": 43,
   "metadata": {},
   "outputs": [],
   "source": [
    "#Traffic_final_data.Charge.value_counts().reset_index()"
   ]
  },
  {
   "cell_type": "code",
   "execution_count": 44,
   "metadata": {
    "scrolled": true
   },
   "outputs": [
    {
     "data": {
      "text/html": [
       "<div>\n",
       "<style scoped>\n",
       "    .dataframe tbody tr th:only-of-type {\n",
       "        vertical-align: middle;\n",
       "    }\n",
       "\n",
       "    .dataframe tbody tr th {\n",
       "        vertical-align: top;\n",
       "    }\n",
       "\n",
       "    .dataframe thead th {\n",
       "        text-align: right;\n",
       "    }\n",
       "</style>\n",
       "<table border=\"1\" class=\"dataframe\">\n",
       "  <thead>\n",
       "    <tr style=\"text-align: right;\">\n",
       "      <th></th>\n",
       "      <th>Date Of Stop</th>\n",
       "      <th>Time Of Stop</th>\n",
       "      <th>Description</th>\n",
       "      <th>State</th>\n",
       "      <th>Charge</th>\n",
       "      <th>Contributed To Accident</th>\n",
       "      <th>Race</th>\n",
       "      <th>Gender</th>\n",
       "      <th>Geolocation</th>\n",
       "    </tr>\n",
       "  </thead>\n",
       "  <tbody>\n",
       "    <tr>\n",
       "      <th>1</th>\n",
       "      <td>08/29/2017</td>\n",
       "      <td>10:19:00</td>\n",
       "      <td>TRAFFIC CONTROLDEVICE</td>\n",
       "      <td>VA</td>\n",
       "      <td>21-201(a1)</td>\n",
       "      <td>No</td>\n",
       "      <td>WHITE</td>\n",
       "      <td>F</td>\n",
       "      <td>(38.981725, -77.0927566666667)</td>\n",
       "    </tr>\n",
       "    <tr>\n",
       "      <th>6</th>\n",
       "      <td>10/08/2013</td>\n",
       "      <td>13:23:00</td>\n",
       "      <td>DRIVING WITH SUSP.LICEN</td>\n",
       "      <td>MD</td>\n",
       "      <td>16-303</td>\n",
       "      <td>No</td>\n",
       "      <td>HISPANIC</td>\n",
       "      <td>M</td>\n",
       "      <td>(39.0933833333333, -77.0795516666667)</td>\n",
       "    </tr>\n",
       "    <tr>\n",
       "      <th>11</th>\n",
       "      <td>03/19/2012</td>\n",
       "      <td>16:10:00</td>\n",
       "      <td>ELECTRONIC DEVICE DISTRACTION</td>\n",
       "      <td>VA</td>\n",
       "      <td>21-1124</td>\n",
       "      <td>No</td>\n",
       "      <td>HISPANIC</td>\n",
       "      <td>M</td>\n",
       "      <td>(38.9827307333333, -77.1007551666667)</td>\n",
       "    </tr>\n",
       "    <tr>\n",
       "      <th>12</th>\n",
       "      <td>06/09/2012</td>\n",
       "      <td>21:19:00</td>\n",
       "      <td>NO SEAT BELT/CHILD SAFTEY</td>\n",
       "      <td>MD</td>\n",
       "      <td>22-412</td>\n",
       "      <td>No</td>\n",
       "      <td>WHITE</td>\n",
       "      <td>F</td>\n",
       "      <td>(39.06914295, -76.9696780666667)</td>\n",
       "    </tr>\n",
       "    <tr>\n",
       "      <th>13</th>\n",
       "      <td>12/20/2012</td>\n",
       "      <td>00:41:00</td>\n",
       "      <td>INFLUENCE OF ALCOHOL</td>\n",
       "      <td>MD</td>\n",
       "      <td>21-902</td>\n",
       "      <td>No</td>\n",
       "      <td>WHITE</td>\n",
       "      <td>M</td>\n",
       "      <td>(38.9835782, -77.09310515)</td>\n",
       "    </tr>\n",
       "  </tbody>\n",
       "</table>\n",
       "</div>"
      ],
      "text/plain": [
       "   Date Of Stop Time Of Stop                    Description State      Charge  \\\n",
       "1    08/29/2017     10:19:00          TRAFFIC CONTROLDEVICE    VA  21-201(a1)   \n",
       "6    10/08/2013     13:23:00        DRIVING WITH SUSP.LICEN    MD      16-303   \n",
       "11   03/19/2012     16:10:00  ELECTRONIC DEVICE DISTRACTION    VA     21-1124   \n",
       "12   06/09/2012     21:19:00      NO SEAT BELT/CHILD SAFTEY    MD      22-412   \n",
       "13   12/20/2012     00:41:00           INFLUENCE OF ALCOHOL    MD      21-902   \n",
       "\n",
       "   Contributed To Accident      Race Gender  \\\n",
       "1                       No     WHITE      F   \n",
       "6                       No  HISPANIC      M   \n",
       "11                      No  HISPANIC      M   \n",
       "12                      No     WHITE      F   \n",
       "13                      No     WHITE      M   \n",
       "\n",
       "                              Geolocation  \n",
       "1          (38.981725, -77.0927566666667)  \n",
       "6   (39.0933833333333, -77.0795516666667)  \n",
       "11  (38.9827307333333, -77.1007551666667)  \n",
       "12       (39.06914295, -76.9696780666667)  \n",
       "13             (38.9835782, -77.09310515)  "
      ]
     },
     "execution_count": 44,
     "metadata": {},
     "output_type": "execute_result"
    }
   ],
   "source": [
    "Traffic_final_data.head()"
   ]
  },
  {
   "cell_type": "code",
   "execution_count": 45,
   "metadata": {
    "scrolled": false
   },
   "outputs": [
    {
     "data": {
      "text/plain": [
       "Text(0.5,1,'Traffic Charges')"
      ]
     },
     "execution_count": 45,
     "metadata": {},
     "output_type": "execute_result"
    },
    {
     "data": {
      "image/png": "[encoded data removed]",
      "text/plain": [
       "<Figure size 864x864 with 1 Axes>"
      ]
     },
     "metadata": {},
     "output_type": "display_data"
    }
   ],
   "source": [
    "# Build Pie Chart for all traffic charges\n",
    "plt.rcParams['font.size'] = 8.0\n",
    "fig = plt.figure(figsize=[12, 12])\n",
    "plt.pie(Traffic[\"number of charges\"],labels=Traffic[\"Description\"], shadow = False ,   startangle=150, autopct = \"%1.1f%%\" )\n",
    "plt.title('Traffic Charges',fontsize= 15)\n"
   ]
  },
  {
   "cell_type": "code",
   "execution_count": 46,
   "metadata": {},
   "outputs": [
    {
     "data": {
      "text/plain": [
       "Text(0,0.5,'number of charges')"
      ]
     },
     "execution_count": 46,
     "metadata": {},
     "output_type": "execute_result"
    },
    {
     "data": {
      "image/png": "[encoded data removed]",
      "text/plain": [
       "<Figure size 720x360 with 1 Axes>"
      ]
     },
     "metadata": {},
     "output_type": "display_data"
    }
   ],
   "source": [
    "# Build bar Chart to compare the charts and select the best one\n",
    "x_axis = np.arange(len(Traffic.index))\n",
    "plt.figure(figsize=(10, 5))\n",
    "plt.bar(x_axis, Traffic[\"number of charges\"], color='r', alpha=0.5, align=\"center\" , width=.8 )\n",
    "tick_locations = [value for value in x_axis]\n",
    "tick_title = Traffic[\"Description\"]\n",
    "plt.xticks(tick_locations, tick_title , rotation=90)\n",
    "plt.title(\"charges amount\"  ,fontsize= 15)\n",
    "plt.xlabel(\"charge descriotion\",fontsize= 12)\n",
    "plt.ylabel(\"number of charges\" ,fontsize= 12)"
   ]
  },
  {
   "cell_type": "code",
   "execution_count": 47,
   "metadata": {},
   "outputs": [
    {
     "data": {
      "text/html": [
       "<div>\n",
       "<style scoped>\n",
       "    .dataframe tbody tr th:only-of-type {\n",
       "        vertical-align: middle;\n",
       "    }\n",
       "\n",
       "    .dataframe tbody tr th {\n",
       "        vertical-align: top;\n",
       "    }\n",
       "\n",
       "    .dataframe thead th {\n",
       "        text-align: right;\n",
       "    }\n",
       "</style>\n",
       "<table border=\"1\" class=\"dataframe\">\n",
       "  <thead>\n",
       "    <tr style=\"text-align: right;\">\n",
       "      <th></th>\n",
       "      <th>Gender</th>\n",
       "      <th>Number of charges</th>\n",
       "    </tr>\n",
       "  </thead>\n",
       "  <tbody>\n",
       "    <tr>\n",
       "      <th>0</th>\n",
       "      <td>M</td>\n",
       "      <td>721506</td>\n",
       "    </tr>\n",
       "    <tr>\n",
       "      <th>1</th>\n",
       "      <td>F</td>\n",
       "      <td>369266</td>\n",
       "    </tr>\n",
       "  </tbody>\n",
       "</table>\n",
       "</div>"
      ],
      "text/plain": [
       "  Gender  Number of charges\n",
       "0      M             721506\n",
       "1      F             369266"
      ]
     },
     "execution_count": 47,
     "metadata": {},
     "output_type": "execute_result"
    }
   ],
   "source": [
    "#Comparing Male and Female charges amount\n",
    "Traffic=Traffic_final_data.Gender.value_counts().reset_index()\n",
    "Traffic= Traffic.rename(columns={'index': 'Gender', 'Gender': 'Number of charges'})\n",
    "Traffic=Traffic[Traffic.Gender!='U']\n",
    "Traffic"
   ]
  },
  {
   "cell_type": "code",
   "execution_count": 48,
   "metadata": {
    "scrolled": false
   },
   "outputs": [
    {
     "data": {
      "text/plain": [
       "Text(0.5,1,'All Traffic Charges by Gender')"
      ]
     },
     "execution_count": 48,
     "metadata": {},
     "output_type": "execute_result"
    },
    {
     "data": {
      "image/png": "[encoded data removed]",
      "text/plain": [
       "<Figure size 576x576 with 1 Axes>"
      ]
     },
     "metadata": {},
     "output_type": "display_data"
    }
   ],
   "source": [
    "# Build Pie Chart for all Traffic charges based on Gender\n",
    "plt.rcParams['font.size'] = 10.0\n",
    "fig = plt.figure(figsize=[8, 8])\n",
    "plt.pie(Traffic[\"Number of charges\"],labels=[\"Male\" , \"Female\"], shadow = False ,   startangle=150, autopct = \"%1.1f%%\" )\n",
    "plt.title('All Traffic Charges by Gender',fontsize= 15)\n"
   ]
  },
  {
   "cell_type": "code",
   "execution_count": 49,
   "metadata": {},
   "outputs": [
    {
     "data": {
      "text/plain": [
       "Text(0,0.5,'Number Of Charges')"
      ]
     },
     "execution_count": 49,
     "metadata": {},
     "output_type": "execute_result"
    },
    {
     "data": {
      "image/png": "[encoded data removed]",
      "text/plain": [
       "<Figure size 360x360 with 1 Axes>"
      ]
     },
     "metadata": {},
     "output_type": "display_data"
    }
   ],
   "source": [
    "# Build bar Chart for all driving tickets based on Gender\n",
    "x_axis = np.arange(len(Traffic\n",
    "                      ))\n",
    "plt.figure(figsize=(5, 5))\n",
    "plt.bar(x_axis, Traffic[\"Number of charges\"], color='r', alpha=0.5, align=\"center\" , width=.8 )\n",
    "tick_locations = [value for value in x_axis]\n",
    "tick_title = [\"male\" , \"female\" , \"unknown\"]\n",
    "plt.xticks(tick_locations, tick_title )\n",
    "plt.title(\"All driving charges based on Gender\" ,fontsize= 15)\n",
    "plt.xlabel(\"Gender\",fontsize= 12)\n",
    "plt.ylabel(\"Number Of Charges\",fontsize= 12)"
   ]
  },
  {
   "cell_type": "code",
   "execution_count": 50,
   "metadata": {},
   "outputs": [
    {
     "data": {
      "text/html": [
       "<div>\n",
       "<style scoped>\n",
       "    .dataframe tbody tr th:only-of-type {\n",
       "        vertical-align: middle;\n",
       "    }\n",
       "\n",
       "    .dataframe tbody tr th {\n",
       "        vertical-align: top;\n",
       "    }\n",
       "\n",
       "    .dataframe thead th {\n",
       "        text-align: right;\n",
       "    }\n",
       "</style>\n",
       "<table border=\"1\" class=\"dataframe\">\n",
       "  <thead>\n",
       "    <tr style=\"text-align: right;\">\n",
       "      <th></th>\n",
       "      <th>Gender</th>\n",
       "      <th>Number Of Charges</th>\n",
       "    </tr>\n",
       "  </thead>\n",
       "  <tbody>\n",
       "    <tr>\n",
       "      <th>0</th>\n",
       "      <td>M</td>\n",
       "      <td>127649</td>\n",
       "    </tr>\n",
       "    <tr>\n",
       "      <th>1</th>\n",
       "      <td>F</td>\n",
       "      <td>75734</td>\n",
       "    </tr>\n",
       "    <tr>\n",
       "      <th>2</th>\n",
       "      <td>U</td>\n",
       "      <td>26</td>\n",
       "    </tr>\n",
       "  </tbody>\n",
       "</table>\n",
       "</div>"
      ],
      "text/plain": [
       "  Gender  Number Of Charges\n",
       "0      M             127649\n",
       "1      F              75734\n",
       "2      U                 26"
      ]
     },
     "execution_count": 50,
     "metadata": {},
     "output_type": "execute_result"
    }
   ],
   "source": [
    "#seprating speed charges by gender\n",
    "speed_amount=Traffic_final_data.loc[Traffic_final_data.Description == \"SPEEDING\"].Gender.value_counts()\n",
    "speed=speed_amount.reset_index()\n",
    "speed= speed.rename(columns={'index': 'Gender', 'Gender': 'Number Of Charges'})\n",
    "speed"
   ]
  },
  {
   "cell_type": "code",
   "execution_count": 51,
   "metadata": {
    "scrolled": false
   },
   "outputs": [
    {
     "data": {
      "text/plain": [
       "Text(0.5,1,'Speed Charges By Gender')"
      ]
     },
     "execution_count": 51,
     "metadata": {},
     "output_type": "execute_result"
    },
    {
     "data": {
      "image/png": "[encoded data removed]",
      "text/plain": [
       "<Figure size 576x576 with 1 Axes>"
      ]
     },
     "metadata": {},
     "output_type": "display_data"
    }
   ],
   "source": [
    "# Build Pie Chart for speed charges by gender\n",
    "plt.rcParams['font.size'] = 10.0\n",
    "fig = plt.figure(figsize=[8, 8])\n",
    "plt.pie(speed[\"Number Of Charges\"],labels=[\"Male\" , \"Female\" , \"Unknown\"], shadow = False ,   startangle=150, autopct = \"%1.1f%%\" )\n",
    "plt.title('Speed Charges By Gender',fontsize= 15)\n"
   ]
  },
  {
   "cell_type": "code",
   "execution_count": 52,
   "metadata": {},
   "outputs": [
    {
     "data": {
      "text/plain": [
       "Text(0,0.5,'Number Of Charges')"
      ]
     },
     "execution_count": 52,
     "metadata": {},
     "output_type": "execute_result"
    },
    {
     "data": {
      "image/png": "[encoded data removed]",
      "text/plain": [
       "<Figure size 360x360 with 1 Axes>"
      ]
     },
     "metadata": {},
     "output_type": "display_data"
    }
   ],
   "source": [
    "# Build bar Chart for speed charges by gender\n",
    "x_axis = np.arange(len(speed_amount))\n",
    "plt.figure(figsize=(5, 5))\n",
    "plt.bar(x_axis, speed[\"Number Of Charges\"], color='r', alpha=0.5, align=\"center\" , width=.8 )\n",
    "tick_locations = [value for value in x_axis]\n",
    "tick_title = [\"male\" , \"female\" , \"unknown\"]\n",
    "plt.xticks(tick_locations, tick_title )\n",
    "plt.title(\"Speed Charges By Gender\" ,fontsize= 15)\n",
    "plt.xlabel(\"Gender\",fontsize= 12)\n",
    "plt.ylabel(\"Number Of Charges\",fontsize= 12)"
   ]
  },
  {
   "cell_type": "code",
   "execution_count": 143,
   "metadata": {},
   "outputs": [
    {
     "data": {
      "text/html": [
       "<div>\n",
       "<style scoped>\n",
       "    .dataframe tbody tr th:only-of-type {\n",
       "        vertical-align: middle;\n",
       "    }\n",
       "\n",
       "    .dataframe tbody tr th {\n",
       "        vertical-align: top;\n",
       "    }\n",
       "\n",
       "    .dataframe thead th {\n",
       "        text-align: right;\n",
       "    }\n",
       "</style>\n",
       "<table border=\"1\" class=\"dataframe\">\n",
       "  <thead>\n",
       "    <tr style=\"text-align: right;\">\n",
       "      <th></th>\n",
       "      <th>Race</th>\n",
       "      <th>Number Of Speed Charges</th>\n",
       "    </tr>\n",
       "  </thead>\n",
       "  <tbody>\n",
       "    <tr>\n",
       "      <th>0</th>\n",
       "      <td>WHITE</td>\n",
       "      <td>95441</td>\n",
       "    </tr>\n",
       "    <tr>\n",
       "      <th>1</th>\n",
       "      <td>BLACK</td>\n",
       "      <td>50239</td>\n",
       "    </tr>\n",
       "    <tr>\n",
       "      <th>2</th>\n",
       "      <td>HISPANIC</td>\n",
       "      <td>30543</td>\n",
       "    </tr>\n",
       "    <tr>\n",
       "      <th>3</th>\n",
       "      <td>ASIAN</td>\n",
       "      <td>14482</td>\n",
       "    </tr>\n",
       "    <tr>\n",
       "      <th>4</th>\n",
       "      <td>OTHER</td>\n",
       "      <td>12314</td>\n",
       "    </tr>\n",
       "    <tr>\n",
       "      <th>5</th>\n",
       "      <td>NATIVE AMERICAN</td>\n",
       "      <td>390</td>\n",
       "    </tr>\n",
       "  </tbody>\n",
       "</table>\n",
       "</div>"
      ],
      "text/plain": [
       "              Race  Number Of Speed Charges\n",
       "0            WHITE                    95441\n",
       "1            BLACK                    50239\n",
       "2         HISPANIC                    30543\n",
       "3            ASIAN                    14482\n",
       "4            OTHER                    12314\n",
       "5  NATIVE AMERICAN                      390"
      ]
     },
     "execution_count": 143,
     "metadata": {},
     "output_type": "execute_result"
    }
   ],
   "source": [
    "#seprating speed charges by races\n",
    "race_speed=Traffic_final_data.loc[Traffic_final_data.Description  == \"SPEEDING\"].Race.value_counts()\n",
    "\n",
    "racespeed=race_speed.reset_index()\n",
    "racespeed = racespeed.rename(columns={'index': 'Race', 'Race': 'Number Of Speed Charges'})\n",
    "racespeed"
   ]
  },
  {
   "cell_type": "code",
   "execution_count": 144,
   "metadata": {},
   "outputs": [
    {
     "data": {
      "text/plain": [
       "Text(0.5,1,'Speed Charges By Race')"
      ]
     },
     "execution_count": 144,
     "metadata": {},
     "output_type": "execute_result"
    },
    {
     "data": {
      "image/png": "[encoded data removed]",
      "text/plain": [
       "<Figure size 576x576 with 1 Axes>"
      ]
     },
     "metadata": {},
     "output_type": "display_data"
    }
   ],
   "source": [
    "# Build Pie Chart for speed charges by Race\n",
    "plt.rcParams['font.size'] = 10.0\n",
    "fig = plt.figure(figsize=[8, 8])\n",
    "plt.pie(racespeed[\"Number Of Speed Charges\"],labels=racespeed[\"Race\"], shadow = False ,   startangle=150, autopct = \"%1.1f%%\" )\n",
    "plt.title('Speed Charges By Race',fontsize= 15)\n"
   ]
  },
  {
   "cell_type": "code",
   "execution_count": 145,
   "metadata": {},
   "outputs": [
    {
     "data": {
      "text/plain": [
       "Text(0,0.5,'Number Of Speed Charges')"
      ]
     },
     "execution_count": 145,
     "metadata": {},
     "output_type": "execute_result"
    },
    {
     "data": {
      "image/png": "[encoded data removed]",
      "text/plain": [
       "<Figure size 360x360 with 1 Axes>"
      ]
     },
     "metadata": {},
     "output_type": "display_data"
    }
   ],
   "source": [
    "# Build bar Chart for speed charges by Race\n",
    "x_axis = np.arange(len(racespeed))\n",
    "plt.figure(figsize=(5, 5))\n",
    "plt.bar(x_axis, racespeed[\"Number Of Speed Charges\"], color='r', alpha=0.5, align=\"center\" , width=.8 )\n",
    "tick_locations = [value for value in x_axis]\n",
    "tick_title = racespeed[\"Race\"]\n",
    "plt.xticks(tick_locations, tick_title , Rotation=90 )\n",
    "plt.title(\"Speed Charges By Race\"  ,fontsize= 15)\n",
    "plt.xlabel(\"Race\",fontsize= 12)\n",
    "plt.ylabel(\"Number Of Speed Charges\",fontsize= 12)"
   ]
  },
  {
   "cell_type": "code",
   "execution_count": 146,
   "metadata": {},
   "outputs": [
    {
     "data": {
      "text/html": [
       "<div>\n",
       "<style scoped>\n",
       "    .dataframe tbody tr th:only-of-type {\n",
       "        vertical-align: middle;\n",
       "    }\n",
       "\n",
       "    .dataframe tbody tr th {\n",
       "        vertical-align: top;\n",
       "    }\n",
       "\n",
       "    .dataframe thead th {\n",
       "        text-align: right;\n",
       "    }\n",
       "</style>\n",
       "<table border=\"1\" class=\"dataframe\">\n",
       "  <thead>\n",
       "    <tr style=\"text-align: right;\">\n",
       "      <th></th>\n",
       "      <th>Gender</th>\n",
       "      <th>Number Of Charges</th>\n",
       "    </tr>\n",
       "  </thead>\n",
       "  <tbody>\n",
       "    <tr>\n",
       "      <th>0</th>\n",
       "      <td>M</td>\n",
       "      <td>30004</td>\n",
       "    </tr>\n",
       "    <tr>\n",
       "      <th>1</th>\n",
       "      <td>F</td>\n",
       "      <td>8015</td>\n",
       "    </tr>\n",
       "    <tr>\n",
       "      <th>2</th>\n",
       "      <td>U</td>\n",
       "      <td>2</td>\n",
       "    </tr>\n",
       "  </tbody>\n",
       "</table>\n",
       "</div>"
      ],
      "text/plain": [
       "  Gender  Number Of Charges\n",
       "0      M              30004\n",
       "1      F               8015\n",
       "2      U                  2"
      ]
     },
     "execution_count": 146,
     "metadata": {},
     "output_type": "execute_result"
    }
   ],
   "source": [
    "#seprating INFLUENCE OF ALCOHOL charges by gender\n",
    "alcohol_amount=Traffic_final_data.loc[Traffic_final_data.Description == \"INFLUENCE OF ALCOHOL\"].Gender.value_counts()\n",
    "alcohol=alcohol_amount.reset_index()\n",
    "alcohol= alcohol.rename(columns={'index': 'Gender', 'Gender': 'Number Of Charges'})\n",
    "alcohol"
   ]
  },
  {
   "cell_type": "code",
   "execution_count": 147,
   "metadata": {},
   "outputs": [
    {
     "data": {
      "text/plain": [
       "Text(0.5,1,'Influence Of Alcohol Charges By Gender')"
      ]
     },
     "execution_count": 147,
     "metadata": {},
     "output_type": "execute_result"
    },
    {
     "data": {
      "image/png": "[encoded data removed]",
      "text/plain": [
       "<Figure size 576x576 with 1 Axes>"
      ]
     },
     "metadata": {},
     "output_type": "display_data"
    }
   ],
   "source": [
    "# Build Pie Chart for INFLUENCE OF ALCOHOL charges by gender\n",
    "plt.rcParams['font.size'] = 10.0\n",
    "fig = plt.figure(figsize=[8, 8])\n",
    "plt.pie(alcohol[\"Number Of Charges\"],labels=[\"Male\" , \"Female\" , \"Unknown\"], shadow = False ,   startangle=150, autopct = \"%1.1f%%\" )\n",
    "plt.title('Influence Of Alcohol Charges By Gender',fontsize= 15)\n"
   ]
  },
  {
   "cell_type": "code",
   "execution_count": 148,
   "metadata": {},
   "outputs": [
    {
     "data": {
      "text/plain": [
       "Text(0,0.5,'Number Of Charges')"
      ]
     },
     "execution_count": 148,
     "metadata": {},
     "output_type": "execute_result"
    },
    {
     "data": {
      "image/png": "[encoded data removed]",
      "text/plain": [
       "<Figure size 360x360 with 1 Axes>"
      ]
     },
     "metadata": {},
     "output_type": "display_data"
    }
   ],
   "source": [
    "# Build bar Chart for INFLUENCE OF ALCOHOL charges by gender\n",
    "x_axis = np.arange(len(speed_amount))\n",
    "plt.figure(figsize=(5, 5))\n",
    "plt.bar(x_axis, alcohol[\"Number Of Charges\"], color='r', alpha=0.5, align=\"center\" , width=.8 )\n",
    "tick_locations = [value for value in x_axis]\n",
    "tick_title = [\"Male\" , \"Female\" , \"Unknown\"]\n",
    "plt.xticks(tick_locations, tick_title )\n",
    "plt.title(\"Influence Of Alcohol Charges By Gender\" ,fontsize= 15 )\n",
    "plt.xlabel(\"Gender\",fontsize= 12)\n",
    "plt.ylabel(\"Number Of Charges\",fontsize= 12)"
   ]
  },
  {
   "cell_type": "code",
   "execution_count": 149,
   "metadata": {},
   "outputs": [
    {
     "data": {
      "text/html": [
       "<div>\n",
       "<style scoped>\n",
       "    .dataframe tbody tr th:only-of-type {\n",
       "        vertical-align: middle;\n",
       "    }\n",
       "\n",
       "    .dataframe tbody tr th {\n",
       "        vertical-align: top;\n",
       "    }\n",
       "\n",
       "    .dataframe thead th {\n",
       "        text-align: right;\n",
       "    }\n",
       "</style>\n",
       "<table border=\"1\" class=\"dataframe\">\n",
       "  <thead>\n",
       "    <tr style=\"text-align: right;\">\n",
       "      <th></th>\n",
       "      <th>Race</th>\n",
       "      <th>Number Of Charges</th>\n",
       "    </tr>\n",
       "  </thead>\n",
       "  <tbody>\n",
       "    <tr>\n",
       "      <th>0</th>\n",
       "      <td>HISPANIC</td>\n",
       "      <td>13800</td>\n",
       "    </tr>\n",
       "    <tr>\n",
       "      <th>1</th>\n",
       "      <td>WHITE</td>\n",
       "      <td>12722</td>\n",
       "    </tr>\n",
       "    <tr>\n",
       "      <th>2</th>\n",
       "      <td>BLACK</td>\n",
       "      <td>9059</td>\n",
       "    </tr>\n",
       "    <tr>\n",
       "      <th>3</th>\n",
       "      <td>ASIAN</td>\n",
       "      <td>1364</td>\n",
       "    </tr>\n",
       "    <tr>\n",
       "      <th>4</th>\n",
       "      <td>OTHER</td>\n",
       "      <td>1014</td>\n",
       "    </tr>\n",
       "    <tr>\n",
       "      <th>5</th>\n",
       "      <td>NATIVE AMERICAN</td>\n",
       "      <td>62</td>\n",
       "    </tr>\n",
       "  </tbody>\n",
       "</table>\n",
       "</div>"
      ],
      "text/plain": [
       "              Race  Number Of Charges\n",
       "0         HISPANIC              13800\n",
       "1            WHITE              12722\n",
       "2            BLACK               9059\n",
       "3            ASIAN               1364\n",
       "4            OTHER               1014\n",
       "5  NATIVE AMERICAN                 62"
      ]
     },
     "execution_count": 149,
     "metadata": {},
     "output_type": "execute_result"
    }
   ],
   "source": [
    "#seprating Influence Of Alcohol charges by race\n",
    "race_alcohol=Traffic_final_data.loc[Traffic_final_data.Description  == \"INFLUENCE OF ALCOHOL\"].Race.value_counts()\n",
    "\n",
    "race_alcohol=race_alcohol.reset_index()\n",
    "race_alcohol = race_alcohol.rename(columns={'index': 'Race', 'Race': 'Number Of Charges'})\n",
    "race_alcohol"
   ]
  },
  {
   "cell_type": "code",
   "execution_count": 150,
   "metadata": {},
   "outputs": [
    {
     "data": {
      "text/plain": [
       "Text(0.5,1,'Influence Of Alcohol Charges By Gender')"
      ]
     },
     "execution_count": 150,
     "metadata": {},
     "output_type": "execute_result"
    },
    {
     "data": {
      "image/png": "[encoded data removed]",
      "text/plain": [
       "<Figure size 576x576 with 1 Axes>"
      ]
     },
     "metadata": {},
     "output_type": "display_data"
    }
   ],
   "source": [
    "# Build Pie Chart for Influence Of Alcohol charges by Race\n",
    "plt.rcParams['font.size'] = 10.0\n",
    "fig = plt.figure(figsize=[8, 8])\n",
    "plt.pie(race_alcohol[\"Number Of Charges\"],labels=race_alcohol[\"Race\"], shadow = False ,   startangle=150, autopct = \"%1.1f%%\" )\n",
    "plt.title('Influence Of Alcohol Charges By Gender',fontsize= 15)\n"
   ]
  },
  {
   "cell_type": "code",
   "execution_count": 151,
   "metadata": {},
   "outputs": [
    {
     "data": {
      "text/plain": [
       "Text(0,0.5,'Number Of  Charges')"
      ]
     },
     "execution_count": 151,
     "metadata": {},
     "output_type": "execute_result"
    },
    {
     "data": {
      "image/png": "[encoded data removed]",
      "text/plain": [
       "<Figure size 360x360 with 1 Axes>"
      ]
     },
     "metadata": {},
     "output_type": "display_data"
    }
   ],
   "source": [
    "# Build bar Chart for Influence Of Alcohol charges by Race\n",
    "x_axis = np.arange(len(race_alcohol))\n",
    "plt.figure(figsize=(5, 5))\n",
    "plt.bar(x_axis, race_alcohol[\"Number Of Charges\"], color='r', alpha=0.5, align=\"center\" , width=.8 )\n",
    "tick_locations = [value for value in x_axis]\n",
    "tick_title = race_alcohol[\"Race\"]\n",
    "plt.xticks(tick_locations, tick_title , Rotation=90 )\n",
    "plt.title(\"Influence Of Alcohol Charges By Race\"  ,fontsize= 15)\n",
    "plt.xlabel(\"Race\",fontsize= 12)\n",
    "plt.ylabel(\"Number Of  Charges\",fontsize= 12)"
   ]
  },
  {
   "cell_type": "code",
   "execution_count": 152,
   "metadata": {},
   "outputs": [
    {
     "data": {
      "text/html": [
       "<div>\n",
       "<style scoped>\n",
       "    .dataframe tbody tr th:only-of-type {\n",
       "        vertical-align: middle;\n",
       "    }\n",
       "\n",
       "    .dataframe tbody tr th {\n",
       "        vertical-align: top;\n",
       "    }\n",
       "\n",
       "    .dataframe thead th {\n",
       "        text-align: right;\n",
       "    }\n",
       "</style>\n",
       "<table border=\"1\" class=\"dataframe\">\n",
       "  <thead>\n",
       "    <tr style=\"text-align: right;\">\n",
       "      <th></th>\n",
       "      <th>Gender</th>\n",
       "      <th>Number Of Charges</th>\n",
       "    </tr>\n",
       "  </thead>\n",
       "  <tbody>\n",
       "    <tr>\n",
       "      <th>0</th>\n",
       "      <td>M</td>\n",
       "      <td>67026</td>\n",
       "    </tr>\n",
       "    <tr>\n",
       "      <th>1</th>\n",
       "      <td>F</td>\n",
       "      <td>32724</td>\n",
       "    </tr>\n",
       "    <tr>\n",
       "      <th>2</th>\n",
       "      <td>U</td>\n",
       "      <td>11</td>\n",
       "    </tr>\n",
       "  </tbody>\n",
       "</table>\n",
       "</div>"
      ],
      "text/plain": [
       "  Gender  Number Of Charges\n",
       "0      M              67026\n",
       "1      F              32724\n",
       "2      U                 11"
      ]
     },
     "execution_count": 152,
     "metadata": {},
     "output_type": "execute_result"
    }
   ],
   "source": [
    "#seprating INFLUENCE OF ELECTRONIC DEVICE DISTRACTION charges by gender\n",
    "gender_electronic=Traffic_final_data.loc[Traffic_final_data.Description == \"ELECTRONIC DEVICE DISTRACTION\"].Gender.value_counts()\n",
    "gender_electronic=gender_electronic.reset_index()\n",
    "gender_electronic= gender_electronic.rename(columns={'index': 'Gender', 'Gender': 'Number Of Charges'})\n",
    "gender_electronic\n"
   ]
  },
  {
   "cell_type": "code",
   "execution_count": 153,
   "metadata": {},
   "outputs": [
    {
     "data": {
      "text/plain": [
       "Text(0.5,1,'Electronic Device Distraction Charges By Gender')"
      ]
     },
     "execution_count": 153,
     "metadata": {},
     "output_type": "execute_result"
    },
    {
     "data": {
      "image/png": "[encoded data removed]",
      "text/plain": [
       "<Figure size 576x576 with 1 Axes>"
      ]
     },
     "metadata": {},
     "output_type": "display_data"
    }
   ],
   "source": [
    "# Build Pie Chart for Electronic Device Distraction Charges By Gender\n",
    "plt.rcParams['font.size'] = 10.0\n",
    "fig = plt.figure(figsize=[8, 8])\n",
    "plt.pie(gender_electronic[\"Number Of Charges\"],labels=[\"Male\" , \"Female\" , \"Unknown\"], shadow = False ,   startangle=150, autopct = \"%1.1f%%\" )\n",
    "plt.title('Electronic Device Distraction Charges By Gender',fontsize= 15)\n"
   ]
  },
  {
   "cell_type": "code",
   "execution_count": 154,
   "metadata": {},
   "outputs": [
    {
     "data": {
      "text/plain": [
       "Text(0,0.5,'Number Of Charges')"
      ]
     },
     "execution_count": 154,
     "metadata": {},
     "output_type": "execute_result"
    },
    {
     "data": {
      "image/png": "[encoded data removed]",
      "text/plain": [
       "<Figure size 360x360 with 1 Axes>"
      ]
     },
     "metadata": {},
     "output_type": "display_data"
    }
   ],
   "source": [
    "# Build bar Chart for Electronic Device Distraction Charges By Gender\n",
    "x_axis = np.arange(len(gender_electronic))\n",
    "plt.figure(figsize=(5, 5))\n",
    "plt.bar(x_axis, gender_electronic[\"Number Of Charges\"], color='r', alpha=0.5, align=\"center\" , width=.8 )\n",
    "tick_locations = [value for value in x_axis]\n",
    "tick_title = [\"Male\" , \"Female\" , \"Unknown\"]\n",
    "plt.xticks(tick_locations, tick_title )\n",
    "plt.title(\"Electronic Device Distraction Charges By Gender\" ,fontsize= 15 )\n",
    "plt.xlabel(\"Gender\",fontsize= 12)\n",
    "plt.ylabel(\"Number Of Charges\",fontsize= 12)"
   ]
  },
  {
   "cell_type": "code",
   "execution_count": 155,
   "metadata": {},
   "outputs": [
    {
     "data": {
      "text/html": [
       "<div>\n",
       "<style scoped>\n",
       "    .dataframe tbody tr th:only-of-type {\n",
       "        vertical-align: middle;\n",
       "    }\n",
       "\n",
       "    .dataframe tbody tr th {\n",
       "        vertical-align: top;\n",
       "    }\n",
       "\n",
       "    .dataframe thead th {\n",
       "        text-align: right;\n",
       "    }\n",
       "</style>\n",
       "<table border=\"1\" class=\"dataframe\">\n",
       "  <thead>\n",
       "    <tr style=\"text-align: right;\">\n",
       "      <th></th>\n",
       "      <th>Race</th>\n",
       "      <th>Number Of Charges</th>\n",
       "    </tr>\n",
       "  </thead>\n",
       "  <tbody>\n",
       "    <tr>\n",
       "      <th>0</th>\n",
       "      <td>WHITE</td>\n",
       "      <td>34882</td>\n",
       "    </tr>\n",
       "    <tr>\n",
       "      <th>1</th>\n",
       "      <td>BLACK</td>\n",
       "      <td>31442</td>\n",
       "    </tr>\n",
       "    <tr>\n",
       "      <th>2</th>\n",
       "      <td>HISPANIC</td>\n",
       "      <td>22192</td>\n",
       "    </tr>\n",
       "    <tr>\n",
       "      <th>3</th>\n",
       "      <td>OTHER</td>\n",
       "      <td>5620</td>\n",
       "    </tr>\n",
       "    <tr>\n",
       "      <th>4</th>\n",
       "      <td>ASIAN</td>\n",
       "      <td>5354</td>\n",
       "    </tr>\n",
       "    <tr>\n",
       "      <th>5</th>\n",
       "      <td>NATIVE AMERICAN</td>\n",
       "      <td>271</td>\n",
       "    </tr>\n",
       "  </tbody>\n",
       "</table>\n",
       "</div>"
      ],
      "text/plain": [
       "              Race  Number Of Charges\n",
       "0            WHITE              34882\n",
       "1            BLACK              31442\n",
       "2         HISPANIC              22192\n",
       "3            OTHER               5620\n",
       "4            ASIAN               5354\n",
       "5  NATIVE AMERICAN                271"
      ]
     },
     "execution_count": 155,
     "metadata": {},
     "output_type": "execute_result"
    }
   ],
   "source": [
    "#seprating ELECTRONIC DEVICE DISTRACTION charges by races\n",
    "race_electronic=Traffic_final_data.loc[Traffic_final_data.Description  == \"ELECTRONIC DEVICE DISTRACTION\"].Race.value_counts()\n",
    "race_electronic=race_electronic.reset_index()\n",
    "race_electronic = race_electronic.rename(columns={'index': 'Race', 'Race': 'Number Of Charges'})\n",
    "race_electronic"
   ]
  },
  {
   "cell_type": "code",
   "execution_count": 156,
   "metadata": {},
   "outputs": [
    {
     "data": {
      "text/plain": [
       "Text(0.5,1,'Electronic Device Distraction Charges By Race')"
      ]
     },
     "execution_count": 156,
     "metadata": {},
     "output_type": "execute_result"
    },
    {
     "data": {
      "image/png": "[encoded data removed]",
      "text/plain": [
       "<Figure size 576x576 with 1 Axes>"
      ]
     },
     "metadata": {},
     "output_type": "display_data"
    }
   ],
   "source": [
    "# Build Pie Chart for Electronic Device Distraction Charges By Race\n",
    "plt.rcParams['font.size'] = 10.0\n",
    "fig = plt.figure(figsize=[8, 8])\n",
    "plt.pie(race_electronic[\"Number Of Charges\"],labels=race_electronic[\"Race\"], shadow = False ,   startangle=150, autopct = \"%1.1f%%\" )\n",
    "plt.title('Electronic Device Distraction Charges By Race',fontsize= 15)\n"
   ]
  },
  {
   "cell_type": "code",
   "execution_count": 157,
   "metadata": {},
   "outputs": [
    {
     "data": {
      "text/plain": [
       "Text(0,0.5,'Number Of Charges')"
      ]
     },
     "execution_count": 157,
     "metadata": {},
     "output_type": "execute_result"
    },
    {
     "data": {
      "image/png": "[encoded data removed]",
      "text/plain": [
       "<Figure size 360x360 with 1 Axes>"
      ]
     },
     "metadata": {},
     "output_type": "display_data"
    }
   ],
   "source": [
    "# Build bar Chart for Electronic Device Distraction charges by Race\n",
    "x_axis = np.arange(len(race_alcohol))\n",
    "plt.figure(figsize=(5, 5))\n",
    "plt.bar(x_axis, race_electronic[\"Number Of Charges\"], color='r', alpha=0.5, align=\"center\" , width=.8 )\n",
    "tick_locations = [value for value in x_axis]\n",
    "tick_title = race_alcohol[\"Race\"]\n",
    "plt.xticks(tick_locations, tick_title , Rotation=90 )\n",
    "plt.title(\"Electronic Device Distraction Charges By Race\"  ,fontsize= 15)\n",
    "plt.xlabel(\"Race\",fontsize= 12)\n",
    "plt.ylabel(\"Number Of Charges\",fontsize= 12)"
   ]
  },
  {
   "cell_type": "code",
   "execution_count": null,
   "metadata": {},
   "outputs": [],
   "source": []
  },
  {
   "cell_type": "code",
   "execution_count": 158,
   "metadata": {},
   "outputs": [
    {
     "data": {
      "text/html": [
       "<div>\n",
       "<style scoped>\n",
       "    .dataframe tbody tr th:only-of-type {\n",
       "        vertical-align: middle;\n",
       "    }\n",
       "\n",
       "    .dataframe tbody tr th {\n",
       "        vertical-align: top;\n",
       "    }\n",
       "\n",
       "    .dataframe thead th {\n",
       "        text-align: right;\n",
       "    }\n",
       "</style>\n",
       "<table border=\"1\" class=\"dataframe\">\n",
       "  <thead>\n",
       "    <tr style=\"text-align: right;\">\n",
       "      <th></th>\n",
       "      <th>Year</th>\n",
       "      <th>Number of charges</th>\n",
       "    </tr>\n",
       "  </thead>\n",
       "  <tbody>\n",
       "    <tr>\n",
       "      <th>0</th>\n",
       "      <td>2015</td>\n",
       "      <td>191398</td>\n",
       "    </tr>\n",
       "    <tr>\n",
       "      <th>1</th>\n",
       "      <td>2016</td>\n",
       "      <td>175881</td>\n",
       "    </tr>\n",
       "    <tr>\n",
       "      <th>2</th>\n",
       "      <td>2014</td>\n",
       "      <td>175371</td>\n",
       "    </tr>\n",
       "    <tr>\n",
       "      <th>3</th>\n",
       "      <td>2017</td>\n",
       "      <td>163257</td>\n",
       "    </tr>\n",
       "    <tr>\n",
       "      <th>4</th>\n",
       "      <td>2013</td>\n",
       "      <td>140428</td>\n",
       "    </tr>\n",
       "    <tr>\n",
       "      <th>5</th>\n",
       "      <td>2018</td>\n",
       "      <td>123743</td>\n",
       "    </tr>\n",
       "    <tr>\n",
       "      <th>6</th>\n",
       "      <td>2012</td>\n",
       "      <td>120971</td>\n",
       "    </tr>\n",
       "  </tbody>\n",
       "</table>\n",
       "</div>"
      ],
      "text/plain": [
       "   Year  Number of charges\n",
       "0  2015             191398\n",
       "1  2016             175881\n",
       "2  2014             175371\n",
       "3  2017             163257\n",
       "4  2013             140428\n",
       "5  2018             123743\n",
       "6  2012             120971"
      ]
     },
     "execution_count": 158,
     "metadata": {},
     "output_type": "execute_result"
    }
   ],
   "source": [
    "#Comparing charges amount during the last 7 years\n",
    "Traffic=Traffic_final_data.Year.value_counts().reset_index()\n",
    "\n",
    "Traffic2=pd.DataFrame(Traffic)\n",
    "Traffic2.reset_index()\n",
    "Traffic2= Traffic2.rename(columns={'index': 'Year', 'Year': 'Number of charges'})\n",
    "Traffic2"
   ]
  },
  {
   "cell_type": "code",
   "execution_count": 159,
   "metadata": {},
   "outputs": [
    {
     "data": {
      "text/html": [
       "<div>\n",
       "<style scoped>\n",
       "    .dataframe tbody tr th:only-of-type {\n",
       "        vertical-align: middle;\n",
       "    }\n",
       "\n",
       "    .dataframe tbody tr th {\n",
       "        vertical-align: top;\n",
       "    }\n",
       "\n",
       "    .dataframe thead th {\n",
       "        text-align: right;\n",
       "    }\n",
       "</style>\n",
       "<table border=\"1\" class=\"dataframe\">\n",
       "  <thead>\n",
       "    <tr style=\"text-align: right;\">\n",
       "      <th></th>\n",
       "      <th>Year</th>\n",
       "      <th>Number of charges</th>\n",
       "    </tr>\n",
       "  </thead>\n",
       "  <tbody>\n",
       "    <tr>\n",
       "      <th>6</th>\n",
       "      <td>2012</td>\n",
       "      <td>120971</td>\n",
       "    </tr>\n",
       "    <tr>\n",
       "      <th>4</th>\n",
       "      <td>2013</td>\n",
       "      <td>140428</td>\n",
       "    </tr>\n",
       "    <tr>\n",
       "      <th>2</th>\n",
       "      <td>2014</td>\n",
       "      <td>175371</td>\n",
       "    </tr>\n",
       "    <tr>\n",
       "      <th>0</th>\n",
       "      <td>2015</td>\n",
       "      <td>191398</td>\n",
       "    </tr>\n",
       "    <tr>\n",
       "      <th>1</th>\n",
       "      <td>2016</td>\n",
       "      <td>175881</td>\n",
       "    </tr>\n",
       "    <tr>\n",
       "      <th>3</th>\n",
       "      <td>2017</td>\n",
       "      <td>163257</td>\n",
       "    </tr>\n",
       "    <tr>\n",
       "      <th>5</th>\n",
       "      <td>2018</td>\n",
       "      <td>123743</td>\n",
       "    </tr>\n",
       "  </tbody>\n",
       "</table>\n",
       "</div>"
      ],
      "text/plain": [
       "   Year  Number of charges\n",
       "6  2012             120971\n",
       "4  2013             140428\n",
       "2  2014             175371\n",
       "0  2015             191398\n",
       "1  2016             175881\n",
       "3  2017             163257\n",
       "5  2018             123743"
      ]
     },
     "execution_count": 159,
     "metadata": {},
     "output_type": "execute_result"
    }
   ],
   "source": [
    "traffic_sorted=Traffic2.sort_values('Year',ascending=True)\n",
    "traffic_sorted"
   ]
  },
  {
   "cell_type": "code",
   "execution_count": 160,
   "metadata": {},
   "outputs": [
    {
     "data": {
      "text/plain": [
       "Text(0,0.5,'Number Of Charges')"
      ]
     },
     "execution_count": 160,
     "metadata": {},
     "output_type": "execute_result"
    },
    {
     "data": {
      "image/png": "[encoded data removed]",
      "text/plain": [
       "<Figure size 360x360 with 1 Axes>"
      ]
     },
     "metadata": {},
     "output_type": "display_data"
    }
   ],
   "source": [
    "# Build bar Chart for all Traffic charges in the las 7 years\n",
    "x_axis = np.arange(len(traffic_sorted))\n",
    "plt.figure(figsize=(5, 5))\n",
    "plt.bar(x_axis, traffic_sorted[\"Number of charges\"], color='r', alpha=0.5, align=\"center\" , width=.8 )\n",
    "tick_locations = [value for value in x_axis]\n",
    "tick_title = traffic_sorted[\"Year\"]\n",
    "plt.xticks(tick_locations, tick_title , Rotation=90 )\n",
    "plt.title(\"Charges Amount During The Last 7 Years\"  ,fontsize= 15)\n",
    "plt.xlabel(\"Year\",fontsize= 12)\n",
    "plt.ylabel(\"Number Of Charges\",fontsize= 12)"
   ]
  },
  {
   "cell_type": "code",
   "execution_count": 161,
   "metadata": {},
   "outputs": [],
   "source": [
    "#Plot Traffic Charges and regression line\n",
    "#Drop 2018 records in order to get a correct REGRESSION\n",
    "x_axis =np.array( traffic_sorted[\"Year\"])\n",
    "x_axis = x_axis[:-1]\n",
    "x_axis\n",
    "\n",
    "#Drop 2018 records in order to get a correct REGRESSION\n",
    "charges_count =np.array(traffic_sorted[\"Number of charges\"])\n",
    "charges_count = charges_count[:-1]\n",
    "charges_count\n",
    "\n",
    "# Set line\n",
    "(slope, intercept, _, _, _) = linregress(x_axis, charges_count)\n",
    "fit = slope * x_axis + intercept"
   ]
  },
  {
   "cell_type": "code",
   "execution_count": 162,
   "metadata": {},
   "outputs": [
    {
     "data": {
      "image/png": "[encoded data removed]",
      "text/plain": [
       "<Figure size 432x288 with 1 Axes>"
      ]
     },
     "metadata": {},
     "output_type": "display_data"
    }
   ],
   "source": [
    "# Plot for Traffic charges in the last 6 years\n",
    "fig, ax = plt.subplots()\n",
    "\n",
    "fig.suptitle(\"Traffic Charges!\", fontsize=16, fontweight=\"bold\")\n",
    "\n",
    "ax.set_xlabel(\"Year\" , fontsize=12 )\n",
    "ax.set_ylabel(\"Number Of Charges\" , fontsize=12)\n",
    "\n",
    "ax.plot(x_axis, charges_count, linewidth=1, marker='o')\n",
    "ax.plot(x_axis, fit, 'b--')\n",
    "\n",
    "plt.show()"
   ]
  },
  {
   "cell_type": "code",
   "execution_count": 163,
   "metadata": {},
   "outputs": [
    {
     "data": {
      "text/html": [
       "<div>\n",
       "<style scoped>\n",
       "    .dataframe tbody tr th:only-of-type {\n",
       "        vertical-align: middle;\n",
       "    }\n",
       "\n",
       "    .dataframe tbody tr th {\n",
       "        vertical-align: top;\n",
       "    }\n",
       "\n",
       "    .dataframe thead th {\n",
       "        text-align: right;\n",
       "    }\n",
       "</style>\n",
       "<table border=\"1\" class=\"dataframe\">\n",
       "  <thead>\n",
       "    <tr style=\"text-align: right;\">\n",
       "      <th></th>\n",
       "      <th>Year</th>\n",
       "      <th>Number Of Speeding Charges</th>\n",
       "    </tr>\n",
       "  </thead>\n",
       "  <tbody>\n",
       "    <tr>\n",
       "      <th>5</th>\n",
       "      <td>2012</td>\n",
       "      <td>27221</td>\n",
       "    </tr>\n",
       "    <tr>\n",
       "      <th>3</th>\n",
       "      <td>2013</td>\n",
       "      <td>29183</td>\n",
       "    </tr>\n",
       "    <tr>\n",
       "      <th>0</th>\n",
       "      <td>2014</td>\n",
       "      <td>32930</td>\n",
       "    </tr>\n",
       "    <tr>\n",
       "      <th>2</th>\n",
       "      <td>2015</td>\n",
       "      <td>32249</td>\n",
       "    </tr>\n",
       "    <tr>\n",
       "      <th>1</th>\n",
       "      <td>2016</td>\n",
       "      <td>32748</td>\n",
       "    </tr>\n",
       "    <tr>\n",
       "      <th>4</th>\n",
       "      <td>2017</td>\n",
       "      <td>28968</td>\n",
       "    </tr>\n",
       "    <tr>\n",
       "      <th>6</th>\n",
       "      <td>2018</td>\n",
       "      <td>20110</td>\n",
       "    </tr>\n",
       "  </tbody>\n",
       "</table>\n",
       "</div>"
      ],
      "text/plain": [
       "   Year  Number Of Speeding Charges\n",
       "5  2012                       27221\n",
       "3  2013                       29183\n",
       "0  2014                       32930\n",
       "2  2015                       32249\n",
       "1  2016                       32748\n",
       "4  2017                       28968\n",
       "6  2018                       20110"
      ]
     },
     "execution_count": 163,
     "metadata": {},
     "output_type": "execute_result"
    }
   ],
   "source": [
    "# Plot for Speeding charges in the last 6 years\n",
    "speed_year=Traffic_final_data.loc[Traffic_final_data.Description == \"SPEEDING\"].Year.value_counts()\n",
    "speed_year=speed_year.reset_index()\n",
    "speed_year= speed_year.rename(columns={'index': 'Year', 'Year': 'Number Of Speeding Charges'})\n",
    "speed_year=speed_year.sort_values('Year',ascending=True)\n",
    "speed_year"
   ]
  },
  {
   "cell_type": "code",
   "execution_count": 164,
   "metadata": {},
   "outputs": [
    {
     "data": {
      "text/plain": [
       "array([27221, 29183, 32930, 32249, 32748, 28968], dtype=int64)"
      ]
     },
     "execution_count": 164,
     "metadata": {},
     "output_type": "execute_result"
    }
   ],
   "source": [
    "#Drop 2018 records in order to get a correct REGRESSION\n",
    "x1_axis =np.array( speed_year[\"Year\"])\n",
    "x1_axis =x1_axis[:-1]\n",
    "x1_axis\n",
    "\n",
    "#Drop 2018 records in order to get a correct REGRESSION\n",
    "charges_count =np.array(speed_year[\"Number Of Speeding Charges\"])\n",
    "charges_count =charges_count[:-1]\n",
    "charges_count"
   ]
  },
  {
   "cell_type": "code",
   "execution_count": 165,
   "metadata": {},
   "outputs": [
    {
     "data": {
      "image/png": "[encoded data removed]",
      "text/plain": [
       "<Figure size 432x288 with 1 Axes>"
      ]
     },
     "metadata": {},
     "output_type": "display_data"
    }
   ],
   "source": [
    "# Set line\n",
    "(slope, intercept, _, _, _) = linregress(x1_axis, charges_count)\n",
    "fit1 = slope * x1_axis + intercept\n",
    "\n",
    "\n",
    "\n",
    "# Plot data\n",
    "fig, ax = plt.subplots()\n",
    "\n",
    "fig.suptitle(\"Speeding Charges in the last 6 years!\", fontsize=16, fontweight=\"bold\")\n",
    "\n",
    "ax.set_xlabel(\"Year\" , fontsize=12)\n",
    "ax.set_ylabel(\"Number Of Charges\" ,  fontsize=12)\n",
    "\n",
    "ax.plot(x1_axis, charges_count, linewidth=1, marker='o')\n",
    "ax.plot(x1_axis, fit1, 'b--')\n",
    "\n",
    "plt.show()"
   ]
  },
  {
   "cell_type": "code",
   "execution_count": 166,
   "metadata": {},
   "outputs": [
    {
     "data": {
      "text/html": [
       "<div>\n",
       "<style scoped>\n",
       "    .dataframe tbody tr th:only-of-type {\n",
       "        vertical-align: middle;\n",
       "    }\n",
       "\n",
       "    .dataframe tbody tr th {\n",
       "        vertical-align: top;\n",
       "    }\n",
       "\n",
       "    .dataframe thead th {\n",
       "        text-align: right;\n",
       "    }\n",
       "</style>\n",
       "<table border=\"1\" class=\"dataframe\">\n",
       "  <thead>\n",
       "    <tr style=\"text-align: right;\">\n",
       "      <th></th>\n",
       "      <th>Year</th>\n",
       "      <th>Number Of Charges</th>\n",
       "    </tr>\n",
       "  </thead>\n",
       "  <tbody>\n",
       "    <tr>\n",
       "      <th>6</th>\n",
       "      <td>2012</td>\n",
       "      <td>7401</td>\n",
       "    </tr>\n",
       "    <tr>\n",
       "      <th>5</th>\n",
       "      <td>2013</td>\n",
       "      <td>9223</td>\n",
       "    </tr>\n",
       "    <tr>\n",
       "      <th>3</th>\n",
       "      <td>2014</td>\n",
       "      <td>16469</td>\n",
       "    </tr>\n",
       "    <tr>\n",
       "      <th>0</th>\n",
       "      <td>2015</td>\n",
       "      <td>18821</td>\n",
       "    </tr>\n",
       "    <tr>\n",
       "      <th>2</th>\n",
       "      <td>2016</td>\n",
       "      <td>16877</td>\n",
       "    </tr>\n",
       "    <tr>\n",
       "      <th>1</th>\n",
       "      <td>2017</td>\n",
       "      <td>17054</td>\n",
       "    </tr>\n",
       "    <tr>\n",
       "      <th>4</th>\n",
       "      <td>2018</td>\n",
       "      <td>13916</td>\n",
       "    </tr>\n",
       "  </tbody>\n",
       "</table>\n",
       "</div>"
      ],
      "text/plain": [
       "   Year  Number Of Charges\n",
       "6  2012               7401\n",
       "5  2013               9223\n",
       "3  2014              16469\n",
       "0  2015              18821\n",
       "2  2016              16877\n",
       "1  2017              17054\n",
       "4  2018              13916"
      ]
     },
     "execution_count": 166,
     "metadata": {},
     "output_type": "execute_result"
    }
   ],
   "source": [
    "# Plot for Electronic Device Distraction charges in the last 6 years\n",
    "electronic_year=Traffic_final_data.loc[Traffic_final_data.Description == \"ELECTRONIC DEVICE DISTRACTION\"].Year.value_counts()\n",
    "electronic_year=electronic_year.reset_index()\n",
    "electronic_year= electronic_year.rename(columns={'index': 'Year', 'Year': 'Number Of Charges'})\n",
    "electronic_year=electronic_year.sort_values('Year',ascending=True)\n",
    "electronic_year"
   ]
  },
  {
   "cell_type": "code",
   "execution_count": 167,
   "metadata": {},
   "outputs": [
    {
     "data": {
      "text/plain": [
       "array([ 7401,  9223, 16469, 18821, 16877, 17054], dtype=int64)"
      ]
     },
     "execution_count": 167,
     "metadata": {},
     "output_type": "execute_result"
    }
   ],
   "source": [
    "#Drop 2018 records in order to get a correct REGRESSION\n",
    "x2_axis =np.array( electronic_year[\"Year\"])\n",
    "x2_axis =x2_axis[:-1]\n",
    "x2_axis\n",
    "\n",
    "#Drop 2018 records in order to get a correct REGRESSION\n",
    "echarges_count =np.array(electronic_year[\"Number Of Charges\"])\n",
    "echarges_count =echarges_count[:-1]\n",
    "echarges_count"
   ]
  },
  {
   "cell_type": "code",
   "execution_count": 168,
   "metadata": {},
   "outputs": [
    {
     "data": {
      "image/png": "[encoded data removed]",
      "text/plain": [
       "<Figure size 432x288 with 1 Axes>"
      ]
     },
     "metadata": {},
     "output_type": "display_data"
    }
   ],
   "source": [
    "# Set line\n",
    "(slope, intercept, _, _, _) = linregress(x2_axis, echarges_count)\n",
    "fit2 = slope * x2_axis + intercept\n",
    "\n",
    "\n",
    "\n",
    "# Plot data\n",
    "fig, ax = plt.subplots()\n",
    "\n",
    "fig.suptitle(\"Electronic Device Distraction Charges in the last 6 years!\", fontsize=16, fontweight=\"bold\")\n",
    "\n",
    "ax.set_xlabel(\"Year\" , fontsize=12)\n",
    "ax.set_ylabel(\"Number Of Charges\" , fontsize=12)\n",
    "\n",
    "ax.plot(x2_axis, echarges_count, linewidth=1, marker='o')\n",
    "ax.plot(x2_axis, fit2, 'b--')\n",
    "\n",
    "plt.show()"
   ]
  },
  {
   "cell_type": "code",
   "execution_count": 169,
   "metadata": {},
   "outputs": [
    {
     "data": {
      "text/html": [
       "<div>\n",
       "<style scoped>\n",
       "    .dataframe tbody tr th:only-of-type {\n",
       "        vertical-align: middle;\n",
       "    }\n",
       "\n",
       "    .dataframe tbody tr th {\n",
       "        vertical-align: top;\n",
       "    }\n",
       "\n",
       "    .dataframe thead th {\n",
       "        text-align: right;\n",
       "    }\n",
       "</style>\n",
       "<table border=\"1\" class=\"dataframe\">\n",
       "  <thead>\n",
       "    <tr style=\"text-align: right;\">\n",
       "      <th></th>\n",
       "      <th>Year</th>\n",
       "      <th>Number Of Charges</th>\n",
       "    </tr>\n",
       "  </thead>\n",
       "  <tbody>\n",
       "    <tr>\n",
       "      <th>5</th>\n",
       "      <td>2012</td>\n",
       "      <td>4263</td>\n",
       "    </tr>\n",
       "    <tr>\n",
       "      <th>4</th>\n",
       "      <td>2013</td>\n",
       "      <td>4840</td>\n",
       "    </tr>\n",
       "    <tr>\n",
       "      <th>3</th>\n",
       "      <td>2014</td>\n",
       "      <td>5789</td>\n",
       "    </tr>\n",
       "    <tr>\n",
       "      <th>1</th>\n",
       "      <td>2015</td>\n",
       "      <td>6777</td>\n",
       "    </tr>\n",
       "    <tr>\n",
       "      <th>0</th>\n",
       "      <td>2016</td>\n",
       "      <td>6793</td>\n",
       "    </tr>\n",
       "    <tr>\n",
       "      <th>2</th>\n",
       "      <td>2017</td>\n",
       "      <td>5905</td>\n",
       "    </tr>\n",
       "    <tr>\n",
       "      <th>6</th>\n",
       "      <td>2018</td>\n",
       "      <td>3654</td>\n",
       "    </tr>\n",
       "  </tbody>\n",
       "</table>\n",
       "</div>"
      ],
      "text/plain": [
       "   Year  Number Of Charges\n",
       "5  2012               4263\n",
       "4  2013               4840\n",
       "3  2014               5789\n",
       "1  2015               6777\n",
       "0  2016               6793\n",
       "2  2017               5905\n",
       "6  2018               3654"
      ]
     },
     "execution_count": 169,
     "metadata": {},
     "output_type": "execute_result"
    }
   ],
   "source": [
    "# Plot for INFLUENCE OF ALCOHOL charges in the last 6 years\n",
    "alcohol_year=Traffic_final_data.loc[Traffic_final_data.Description == \"INFLUENCE OF ALCOHOL\"].Year.value_counts()\n",
    "alcohol_year=alcohol_year.reset_index()\n",
    "alcohol_year= alcohol_year.rename(columns={'index': 'Year', 'Year': 'Number Of Charges'})\n",
    "alcohol_year=alcohol_year.sort_values('Year',ascending=True)\n",
    "alcohol_year\n",
    "\n"
   ]
  },
  {
   "cell_type": "code",
   "execution_count": 170,
   "metadata": {},
   "outputs": [
    {
     "data": {
      "text/plain": [
       "array([4263, 4840, 5789, 6777, 6793, 5905], dtype=int64)"
      ]
     },
     "execution_count": 170,
     "metadata": {},
     "output_type": "execute_result"
    }
   ],
   "source": [
    "#Drop 2018 records in order to get a correct REGRESSION\n",
    "x3_axis =np.array(alcohol_year[\"Year\"])\n",
    "x3_axis =x3_axis[:-1]\n",
    "x3_axis\n",
    "\n",
    "#Drop 2018 records in order to get a correct REGRESSION\n",
    "alcohol_count =np.array(alcohol_year[\"Number Of Charges\"])\n",
    "alcohol_count =alcohol_count[:-1]\n",
    "alcohol_count"
   ]
  },
  {
   "cell_type": "code",
   "execution_count": 171,
   "metadata": {},
   "outputs": [
    {
     "data": {
      "image/png": "[encoded data removed]",
      "text/plain": [
       "<Figure size 432x288 with 1 Axes>"
      ]
     },
     "metadata": {},
     "output_type": "display_data"
    }
   ],
   "source": [
    "# Set line\n",
    "(slope, intercept, _, _, _) = linregress(x3_axis, alcohol_count)\n",
    "fit3 = slope * x3_axis + intercept\n",
    "\n",
    "\n",
    "\n",
    "# Plot data\n",
    "fig, ax = plt.subplots()\n",
    "\n",
    "fig.suptitle(\"Influence OF Alcohol Charges in the last 6 years!\", fontsize=16, fontweight=\"bold\")\n",
    "\n",
    "ax.set_xlabel(\"Year\" , fontsize=12)\n",
    "ax.set_ylabel(\"Number Of Charges\" , fontsize=12)\n",
    "\n",
    "ax.plot(x3_axis, alcohol_count, linewidth=1, marker='o')\n",
    "ax.plot(x3_axis, fit3, 'b--')\n",
    "\n",
    "plt.show()"
   ]
  },
  {
   "cell_type": "code",
   "execution_count": 172,
   "metadata": {},
   "outputs": [
    {
     "data": {
      "text/plain": [
       "Text(0.5,0,'Year')"
      ]
     },
     "execution_count": 172,
     "metadata": {},
     "output_type": "execute_result"
    },
    {
     "data": {
      "image/png": "[encoded data removed]",
      "text/plain": [
       "<Figure size 432x288 with 3 Axes>"
      ]
     },
     "metadata": {},
     "output_type": "display_data"
    }
   ],
   "source": [
    "# Plot\n",
    "fig, (ax1, ax2, ax3) = plt.subplots(3, sharex=\"col\" , sharey='row')\n",
    "fig.suptitle(\"Traffic Charges Over Time\", fontsize=16, fontweight=\"bold\" , size= 15)\n",
    "\n",
    "\n",
    "ax1.plot(x1_axis, charges_count, linewidth=1, marker=\"o\")\n",
    "ax1.plot(x1_axis, fit1, 'b--', linewidth=1)\n",
    "ax1.set_ylabel(\"Speed \")\n",
    "\n",
    "ax2.plot(x2_axis, echarges_count, linewidth=1, marker=\"o\", color=\"r\")\n",
    "ax2.plot(x2_axis, fit2, \"r--\", linewidth=1)\n",
    "ax2.set_ylabel(\"Electronic Device\")\n",
    "\n",
    "\n",
    "ax3.plot(x3_axis, alcohol_count, linewidth=1, marker=\"o\", color=\"g\")\n",
    "ax3.plot(x3_axis, fit3, \"g--\", linewidth=1)\n",
    "ax3.set_ylabel(\"Alcohol\")\n",
    "ax3.set_xlabel(\"Year\")\n",
    "\n"
   ]
  },
  {
   "cell_type": "code",
   "execution_count": 173,
   "metadata": {},
   "outputs": [
    {
     "data": {
      "text/html": [
       "<div>\n",
       "<style scoped>\n",
       "    .dataframe tbody tr th:only-of-type {\n",
       "        vertical-align: middle;\n",
       "    }\n",
       "\n",
       "    .dataframe tbody tr th {\n",
       "        vertical-align: top;\n",
       "    }\n",
       "\n",
       "    .dataframe thead th {\n",
       "        text-align: right;\n",
       "    }\n",
       "</style>\n",
       "<table border=\"1\" class=\"dataframe\">\n",
       "  <thead>\n",
       "    <tr style=\"text-align: right;\">\n",
       "      <th></th>\n",
       "      <th>index</th>\n",
       "      <th>Month</th>\n",
       "    </tr>\n",
       "  </thead>\n",
       "  <tbody>\n",
       "    <tr>\n",
       "      <th>0</th>\n",
       "      <td>3</td>\n",
       "      <td>20410</td>\n",
       "    </tr>\n",
       "    <tr>\n",
       "      <th>1</th>\n",
       "      <td>8</td>\n",
       "      <td>19816</td>\n",
       "    </tr>\n",
       "    <tr>\n",
       "      <th>2</th>\n",
       "      <td>7</td>\n",
       "      <td>19389</td>\n",
       "    </tr>\n",
       "    <tr>\n",
       "      <th>3</th>\n",
       "      <td>6</td>\n",
       "      <td>18686</td>\n",
       "    </tr>\n",
       "    <tr>\n",
       "      <th>4</th>\n",
       "      <td>4</td>\n",
       "      <td>17901</td>\n",
       "    </tr>\n",
       "    <tr>\n",
       "      <th>5</th>\n",
       "      <td>9</td>\n",
       "      <td>17035</td>\n",
       "    </tr>\n",
       "    <tr>\n",
       "      <th>6</th>\n",
       "      <td>5</td>\n",
       "      <td>16940</td>\n",
       "    </tr>\n",
       "    <tr>\n",
       "      <th>7</th>\n",
       "      <td>2</td>\n",
       "      <td>16593</td>\n",
       "    </tr>\n",
       "    <tr>\n",
       "      <th>8</th>\n",
       "      <td>10</td>\n",
       "      <td>16265</td>\n",
       "    </tr>\n",
       "    <tr>\n",
       "      <th>9</th>\n",
       "      <td>1</td>\n",
       "      <td>14592</td>\n",
       "    </tr>\n",
       "    <tr>\n",
       "      <th>10</th>\n",
       "      <td>11</td>\n",
       "      <td>14322</td>\n",
       "    </tr>\n",
       "    <tr>\n",
       "      <th>11</th>\n",
       "      <td>12</td>\n",
       "      <td>11460</td>\n",
       "    </tr>\n",
       "  </tbody>\n",
       "</table>\n",
       "</div>"
      ],
      "text/plain": [
       "    index  Month\n",
       "0       3  20410\n",
       "1       8  19816\n",
       "2       7  19389\n",
       "3       6  18686\n",
       "4       4  17901\n",
       "5       9  17035\n",
       "6       5  16940\n",
       "7       2  16593\n",
       "8      10  16265\n",
       "9       1  14592\n",
       "10     11  14322\n",
       "11     12  11460"
      ]
     },
     "execution_count": 173,
     "metadata": {},
     "output_type": "execute_result"
    }
   ],
   "source": [
    "# Plot for Speeding charges in the last 6 years\n",
    "speed_month=Traffic_final_data.loc[Traffic_final_data.Description == \"SPEEDING\"].Month.value_counts()\n",
    "speed_month=speed_month.reset_index()\n",
    "speed_month"
   ]
  },
  {
   "cell_type": "code",
   "execution_count": 174,
   "metadata": {},
   "outputs": [
    {
     "data": {
      "text/html": [
       "<div>\n",
       "<style scoped>\n",
       "    .dataframe tbody tr th:only-of-type {\n",
       "        vertical-align: middle;\n",
       "    }\n",
       "\n",
       "    .dataframe tbody tr th {\n",
       "        vertical-align: top;\n",
       "    }\n",
       "\n",
       "    .dataframe thead th {\n",
       "        text-align: right;\n",
       "    }\n",
       "</style>\n",
       "<table border=\"1\" class=\"dataframe\">\n",
       "  <thead>\n",
       "    <tr style=\"text-align: right;\">\n",
       "      <th></th>\n",
       "      <th>Month</th>\n",
       "      <th>Number Of Charges</th>\n",
       "    </tr>\n",
       "  </thead>\n",
       "  <tbody>\n",
       "    <tr>\n",
       "      <th>0</th>\n",
       "      <td>3</td>\n",
       "      <td>20410</td>\n",
       "    </tr>\n",
       "    <tr>\n",
       "      <th>1</th>\n",
       "      <td>8</td>\n",
       "      <td>19816</td>\n",
       "    </tr>\n",
       "    <tr>\n",
       "      <th>2</th>\n",
       "      <td>7</td>\n",
       "      <td>19389</td>\n",
       "    </tr>\n",
       "    <tr>\n",
       "      <th>3</th>\n",
       "      <td>6</td>\n",
       "      <td>18686</td>\n",
       "    </tr>\n",
       "    <tr>\n",
       "      <th>4</th>\n",
       "      <td>4</td>\n",
       "      <td>17901</td>\n",
       "    </tr>\n",
       "    <tr>\n",
       "      <th>5</th>\n",
       "      <td>9</td>\n",
       "      <td>17035</td>\n",
       "    </tr>\n",
       "    <tr>\n",
       "      <th>6</th>\n",
       "      <td>5</td>\n",
       "      <td>16940</td>\n",
       "    </tr>\n",
       "    <tr>\n",
       "      <th>7</th>\n",
       "      <td>2</td>\n",
       "      <td>16593</td>\n",
       "    </tr>\n",
       "    <tr>\n",
       "      <th>8</th>\n",
       "      <td>10</td>\n",
       "      <td>16265</td>\n",
       "    </tr>\n",
       "    <tr>\n",
       "      <th>9</th>\n",
       "      <td>1</td>\n",
       "      <td>14592</td>\n",
       "    </tr>\n",
       "    <tr>\n",
       "      <th>10</th>\n",
       "      <td>11</td>\n",
       "      <td>14322</td>\n",
       "    </tr>\n",
       "    <tr>\n",
       "      <th>11</th>\n",
       "      <td>12</td>\n",
       "      <td>11460</td>\n",
       "    </tr>\n",
       "  </tbody>\n",
       "</table>\n",
       "</div>"
      ],
      "text/plain": [
       "    Month  Number Of Charges\n",
       "0       3              20410\n",
       "1       8              19816\n",
       "2       7              19389\n",
       "3       6              18686\n",
       "4       4              17901\n",
       "5       9              17035\n",
       "6       5              16940\n",
       "7       2              16593\n",
       "8      10              16265\n",
       "9       1              14592\n",
       "10     11              14322\n",
       "11     12              11460"
      ]
     },
     "execution_count": 174,
     "metadata": {},
     "output_type": "execute_result"
    }
   ],
   "source": [
    "speed_month= speed_month.rename(columns={'index': 'Month', 'Month': 'Number Of Charges'})\n",
    "speed_month"
   ]
  },
  {
   "cell_type": "code",
   "execution_count": 175,
   "metadata": {},
   "outputs": [
    {
     "data": {
      "text/html": [
       "<div>\n",
       "<style scoped>\n",
       "    .dataframe tbody tr th:only-of-type {\n",
       "        vertical-align: middle;\n",
       "    }\n",
       "\n",
       "    .dataframe tbody tr th {\n",
       "        vertical-align: top;\n",
       "    }\n",
       "\n",
       "    .dataframe thead th {\n",
       "        text-align: right;\n",
       "    }\n",
       "</style>\n",
       "<table border=\"1\" class=\"dataframe\">\n",
       "  <thead>\n",
       "    <tr style=\"text-align: right;\">\n",
       "      <th></th>\n",
       "      <th>Date Of Stop</th>\n",
       "      <th>Time Of Stop</th>\n",
       "      <th>Description</th>\n",
       "      <th>State</th>\n",
       "      <th>Violation Type</th>\n",
       "      <th>Charge</th>\n",
       "      <th>Contributed To Accident</th>\n",
       "      <th>Race</th>\n",
       "      <th>Gender</th>\n",
       "      <th>Geolocation</th>\n",
       "      <th>Year</th>\n",
       "      <th>Month</th>\n",
       "    </tr>\n",
       "  </thead>\n",
       "  <tbody>\n",
       "    <tr>\n",
       "      <th>0</th>\n",
       "      <td>2017-08-29</td>\n",
       "      <td>10:19:00</td>\n",
       "      <td>TRAFFIC CONTROLDEVICE</td>\n",
       "      <td>VA</td>\n",
       "      <td>Citation</td>\n",
       "      <td>21-201(a1)</td>\n",
       "      <td>No</td>\n",
       "      <td>WHITE</td>\n",
       "      <td>F</td>\n",
       "      <td>(38.981725, -77.0927566666667)</td>\n",
       "      <td>2017</td>\n",
       "      <td>8</td>\n",
       "    </tr>\n",
       "    <tr>\n",
       "      <th>1</th>\n",
       "      <td>2013-10-08</td>\n",
       "      <td>13:23:00</td>\n",
       "      <td>DRIVING WITH SUSP.LICEN</td>\n",
       "      <td>MD</td>\n",
       "      <td>Citation</td>\n",
       "      <td>16-303</td>\n",
       "      <td>No</td>\n",
       "      <td>HISPANIC</td>\n",
       "      <td>M</td>\n",
       "      <td>(39.0933833333333, -77.0795516666667)</td>\n",
       "      <td>2013</td>\n",
       "      <td>10</td>\n",
       "    </tr>\n",
       "    <tr>\n",
       "      <th>2</th>\n",
       "      <td>2012-03-19</td>\n",
       "      <td>16:10:00</td>\n",
       "      <td>ELECTRONIC DEVICE DISTRACTION</td>\n",
       "      <td>VA</td>\n",
       "      <td>Citation</td>\n",
       "      <td>21-1124</td>\n",
       "      <td>No</td>\n",
       "      <td>HISPANIC</td>\n",
       "      <td>M</td>\n",
       "      <td>(38.9827307333333, -77.1007551666667)</td>\n",
       "      <td>2012</td>\n",
       "      <td>3</td>\n",
       "    </tr>\n",
       "    <tr>\n",
       "      <th>3</th>\n",
       "      <td>2012-06-09</td>\n",
       "      <td>21:19:00</td>\n",
       "      <td>NO SEAT BELT/CHILD SAFTEY</td>\n",
       "      <td>MD</td>\n",
       "      <td>Citation</td>\n",
       "      <td>22-412</td>\n",
       "      <td>No</td>\n",
       "      <td>WHITE</td>\n",
       "      <td>F</td>\n",
       "      <td>(39.06914295, -76.9696780666667)</td>\n",
       "      <td>2012</td>\n",
       "      <td>6</td>\n",
       "    </tr>\n",
       "    <tr>\n",
       "      <th>4</th>\n",
       "      <td>2012-12-20</td>\n",
       "      <td>00:41:00</td>\n",
       "      <td>INFLUENCE OF ALCOHOL</td>\n",
       "      <td>MD</td>\n",
       "      <td>Citation</td>\n",
       "      <td>21-902</td>\n",
       "      <td>No</td>\n",
       "      <td>WHITE</td>\n",
       "      <td>M</td>\n",
       "      <td>(38.9835782, -77.09310515)</td>\n",
       "      <td>2012</td>\n",
       "      <td>12</td>\n",
       "    </tr>\n",
       "  </tbody>\n",
       "</table>\n",
       "</div>"
      ],
      "text/plain": [
       "  Date Of Stop Time Of Stop                    Description State  \\\n",
       "0   2017-08-29     10:19:00          TRAFFIC CONTROLDEVICE    VA   \n",
       "1   2013-10-08     13:23:00        DRIVING WITH SUSP.LICEN    MD   \n",
       "2   2012-03-19     16:10:00  ELECTRONIC DEVICE DISTRACTION    VA   \n",
       "3   2012-06-09     21:19:00      NO SEAT BELT/CHILD SAFTEY    MD   \n",
       "4   2012-12-20     00:41:00           INFLUENCE OF ALCOHOL    MD   \n",
       "\n",
       "  Violation Type      Charge Contributed To Accident      Race Gender  \\\n",
       "0       Citation  21-201(a1)                      No     WHITE      F   \n",
       "1       Citation      16-303                      No  HISPANIC      M   \n",
       "2       Citation     21-1124                      No  HISPANIC      M   \n",
       "3       Citation      22-412                      No     WHITE      F   \n",
       "4       Citation      21-902                      No     WHITE      M   \n",
       "\n",
       "                             Geolocation  Year  Month  \n",
       "0         (38.981725, -77.0927566666667)  2017      8  \n",
       "1  (39.0933833333333, -77.0795516666667)  2013     10  \n",
       "2  (38.9827307333333, -77.1007551666667)  2012      3  \n",
       "3       (39.06914295, -76.9696780666667)  2012      6  \n",
       "4             (38.9835782, -77.09310515)  2012     12  "
      ]
     },
     "execution_count": 175,
     "metadata": {},
     "output_type": "execute_result"
    }
   ],
   "source": [
    "#Reading the csv file and getting the dataframe\n",
    "Traffic_pd=pd.read_csv(\"Traffic_violations_updated.csv\")\n",
    "Traffic_pd.head()"
   ]
  },
  {
   "cell_type": "code",
   "execution_count": 176,
   "metadata": {},
   "outputs": [],
   "source": [
    "#function to calculate the warning and citations from the Violation type column\n",
    "def compute_outcome_stats(df):\n",
    " #   \"\"\"Compute statistics regarding the relative quanties of  warnings, and citations\"\"\"\n",
    "    n_total = len(df)\n",
    "    n_warnings = len(df[df['Violation Type'] == 'Warning'])\n",
    "    n_citations = len(df[df['Violation Type'] == 'Citation'])\n",
    "    try:\n",
    "        citations_per_warning = n_citations / n_warnings\n",
    "    except ZeroDivisionError:\n",
    "        citations_per_warning=0\n",
    "    \n",
    "\n",
    "    return(pd.Series(data = {\n",
    "        'total': n_total,\n",
    "        'warnings': n_warnings,\n",
    "        'citations': n_citations,\n",
    "        'citations_per_warning': citations_per_warning,\n",
    "        \n",
    "    }))"
   ]
  },
  {
   "cell_type": "code",
   "execution_count": 177,
   "metadata": {},
   "outputs": [],
   "source": [
    "#function to compute the analysis of top 5 charges\n",
    "def compute_outcome_Charges(df):\n",
    "    \"\"\"Compute statistics regarding the relative quanties oftop five charges\"\"\"\n",
    "    Total_charges=len(df)\n",
    "    DRIVING_SUSP_LICEN = len(df[df['Charge'] == '16-303'])\n",
    "    SPEEDING= len(df[df['Charge'] == '201-801'])\n",
    "    TRAFFIC_CONTROLDEVICE=len(df[df['Charge'] == '21-201(a1)'])\n",
    "    ELECTRONIC_DEVICE_DISTRACTION=len(df[df['Charge'] == '21-1124'])\n",
    "    DISPLAY_REGISTRATION_PLATE=len(df[df['Charge'] == '13-411'])\n",
    "\n",
    "    return(pd.Series(data = {\n",
    "        \"TOTAL CHARGES\":Total_charges,\n",
    "        'DRIVING WITH SUSP.LICEN':DRIVING_SUSP_LICEN,\n",
    "        'SPEEDING': SPEEDING,\n",
    "        'TRAFFIC CONTROLDEVICE': TRAFFIC_CONTROLDEVICE,\n",
    "        'ELECTRONIC DEVICE DISTRACTION': ELECTRONIC_DEVICE_DISTRACTION,\n",
    "        'DISPLAY REGISTRATION PLATE':DISPLAY_REGISTRATION_PLATE,\n",
    "    }))"
   ]
  },
  {
   "cell_type": "code",
   "execution_count": null,
   "metadata": {},
   "outputs": [],
   "source": [
    "# Plot\n",
    "fig, (ax1, ax2, ax3) = plt.subplots(3, sharex=\"col\" , sharey='row')\n",
    "fig.suptitle(\"Traffic Charges by race Over Time\", fontsize=16, fontweight=\"bold\" , size= 15)\n",
    "\n",
    "\n",
    "ax1.plot(x1_axis, charges_count, linewidth=1, marker=\"o\")\n",
    "ax1.plot(x1_axis, fit1, 'b--', linewidth=1)\n",
    "ax1.set_ylabel(\"Speed \")\n",
    "\n",
    "ax2.plot(x2_axis, echarges_count, linewidth=1, marker=\"o\", color=\"r\")\n",
    "ax2.plot(x2_axis, fit2, \"r--\", linewidth=1)\n",
    "ax2.set_ylabel(\"Electronic Device\")\n",
    "\n",
    "\n",
    "ax3.plot(x3_axis, alcohol_count, linewidth=1, marker=\"o\", color=\"g\")\n",
    "ax3.plot(x3_axis, fit3, \"g--\", linewidth=1)\n",
    "ax3.set_ylabel(\"Alcohol\")\n",
    "ax3.set_xlabel(\"Year\")\n",
    "\n"
   ]
  },
  {
   "cell_type": "code",
   "execution_count": null,
   "metadata": {},
   "outputs": [],
   "source": []
  },
  {
   "cell_type": "code",
   "execution_count": null,
   "metadata": {},
   "outputs": [],
   "source": []
  },
  {
   "cell_type": "code",
   "execution_count": null,
   "metadata": {},
   "outputs": [],
   "source": []
  }
 ],
 "metadata": {
  "kernelspec": {
   "display_name": "Python [default]",
   "language": "python",
   "name": "python3"
  },
  "language_info": {
   "codemirror_mode": {
    "name": "ipython",
    "version": 3
   },
   "file_extension": ".py",
   "mimetype": "text/x-python",
   "name": "python",
   "nbconvert_exporter": "python",
   "pygments_lexer": "ipython3",
   "version": "3.6.5"
  }
 },
 "nbformat": 4,
 "nbformat_minor": 2
}
